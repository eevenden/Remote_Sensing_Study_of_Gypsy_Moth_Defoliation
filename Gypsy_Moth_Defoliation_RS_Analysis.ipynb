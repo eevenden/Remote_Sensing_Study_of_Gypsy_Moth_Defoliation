{
 "cells": [
  {
   "cell_type": "code",
   "execution_count": 1,
   "metadata": {},
   "outputs": [
    {
     "name": "stderr",
     "output_type": "stream",
     "text": [
      "Can't load requested DLL: C:\\Program Files\\GDAL\\gdalplugins\\gdal_BAG.dll\n",
      "127: The specified procedure could not be found.\n",
      "\n",
      "Can't load requested DLL: C:\\Program Files\\GDAL\\gdalplugins\\gdal_BAG.dll\n",
      "127: The specified procedure could not be found.\n",
      "\n",
      "Can't load requested DLL: C:\\Program Files\\GDAL\\gdalplugins\\gdal_FITS.dll\n",
      "127: The specified procedure could not be found.\n",
      "\n",
      "Can't load requested DLL: C:\\Program Files\\GDAL\\gdalplugins\\gdal_FITS.dll\n",
      "127: The specified procedure could not be found.\n",
      "\n",
      "Can't load requested DLL: C:\\Program Files\\GDAL\\gdalplugins\\gdal_GMT.dll\n",
      "127: The specified procedure could not be found.\n",
      "\n",
      "Can't load requested DLL: C:\\Program Files\\GDAL\\gdalplugins\\gdal_GMT.dll\n",
      "127: The specified procedure could not be found.\n",
      "\n",
      "Can't load requested DLL: C:\\Program Files\\GDAL\\gdalplugins\\gdal_HDF4.dll\n",
      "127: The specified procedure could not be found.\n",
      "\n",
      "Can't load requested DLL: C:\\Program Files\\GDAL\\gdalplugins\\gdal_HDF4.dll\n",
      "127: The specified procedure could not be found.\n",
      "\n",
      "Can't load requested DLL: C:\\Program Files\\GDAL\\gdalplugins\\gdal_HDF4Image.dll\n",
      "127: The specified procedure could not be found.\n",
      "\n",
      "Can't load requested DLL: C:\\Program Files\\GDAL\\gdalplugins\\gdal_HDF4Image.dll\n",
      "127: The specified procedure could not be found.\n",
      "\n",
      "Can't load requested DLL: C:\\Program Files\\GDAL\\gdalplugins\\gdal_HDF5.dll\n",
      "127: The specified procedure could not be found.\n",
      "\n",
      "Can't load requested DLL: C:\\Program Files\\GDAL\\gdalplugins\\gdal_HDF5.dll\n",
      "127: The specified procedure could not be found.\n",
      "\n",
      "Can't load requested DLL: C:\\Program Files\\GDAL\\gdalplugins\\gdal_HDF5Image.dll\n",
      "127: The specified procedure could not be found.\n",
      "\n",
      "Can't load requested DLL: C:\\Program Files\\GDAL\\gdalplugins\\gdal_HDF5Image.dll\n",
      "127: The specified procedure could not be found.\n",
      "\n",
      "Can't load requested DLL: C:\\Program Files\\GDAL\\gdalplugins\\gdal_KEA.dll\n",
      "127: The specified procedure could not be found.\n",
      "\n",
      "Can't load requested DLL: C:\\Program Files\\GDAL\\gdalplugins\\gdal_KEA.dll\n",
      "127: The specified procedure could not be found.\n",
      "\n",
      "Can't load requested DLL: C:\\Program Files\\GDAL\\gdalplugins\\gdal_netCDF.dll\n",
      "127: The specified procedure could not be found.\n",
      "\n",
      "Can't load requested DLL: C:\\Program Files\\GDAL\\gdalplugins\\gdal_netCDF.dll\n",
      "127: The specified procedure could not be found.\n",
      "\n",
      "Can't load requested DLL: C:\\Program Files\\GDAL\\gdalplugins\\gdal_BAG.dll\n",
      "127: The specified procedure could not be found.\n",
      "\n",
      "Can't load requested DLL: C:\\Program Files\\GDAL\\gdalplugins\\gdal_BAG.dll\n",
      "127: The specified procedure could not be found.\n",
      "\n",
      "Can't load requested DLL: C:\\Program Files\\GDAL\\gdalplugins\\gdal_FITS.dll\n",
      "127: The specified procedure could not be found.\n",
      "\n",
      "Can't load requested DLL: C:\\Program Files\\GDAL\\gdalplugins\\gdal_FITS.dll\n",
      "127: The specified procedure could not be found.\n",
      "\n",
      "Can't load requested DLL: C:\\Program Files\\GDAL\\gdalplugins\\gdal_GMT.dll\n",
      "127: The specified procedure could not be found.\n",
      "\n",
      "Can't load requested DLL: C:\\Program Files\\GDAL\\gdalplugins\\gdal_GMT.dll\n",
      "127: The specified procedure could not be found.\n",
      "\n",
      "Can't load requested DLL: C:\\Program Files\\GDAL\\gdalplugins\\gdal_HDF4.dll\n",
      "127: The specified procedure could not be found.\n",
      "\n",
      "Can't load requested DLL: C:\\Program Files\\GDAL\\gdalplugins\\gdal_HDF4.dll\n",
      "127: The specified procedure could not be found.\n",
      "\n",
      "Can't load requested DLL: C:\\Program Files\\GDAL\\gdalplugins\\gdal_HDF4Image.dll\n",
      "127: The specified procedure could not be found.\n",
      "\n",
      "Can't load requested DLL: C:\\Program Files\\GDAL\\gdalplugins\\gdal_HDF4Image.dll\n",
      "127: The specified procedure could not be found.\n",
      "\n",
      "Can't load requested DLL: C:\\Program Files\\GDAL\\gdalplugins\\gdal_HDF5.dll\n",
      "127: The specified procedure could not be found.\n",
      "\n",
      "Can't load requested DLL: C:\\Program Files\\GDAL\\gdalplugins\\gdal_HDF5.dll\n",
      "127: The specified procedure could not be found.\n",
      "\n",
      "Can't load requested DLL: C:\\Program Files\\GDAL\\gdalplugins\\gdal_HDF5Image.dll\n",
      "127: The specified procedure could not be found.\n",
      "\n",
      "Can't load requested DLL: C:\\Program Files\\GDAL\\gdalplugins\\gdal_HDF5Image.dll\n",
      "127: The specified procedure could not be found.\n",
      "\n",
      "Can't load requested DLL: C:\\Program Files\\GDAL\\gdalplugins\\gdal_KEA.dll\n",
      "127: The specified procedure could not be found.\n",
      "\n",
      "Can't load requested DLL: C:\\Program Files\\GDAL\\gdalplugins\\gdal_KEA.dll\n",
      "127: The specified procedure could not be found.\n",
      "\n",
      "Can't load requested DLL: C:\\Program Files\\GDAL\\gdalplugins\\gdal_netCDF.dll\n",
      "127: The specified procedure could not be found.\n",
      "\n",
      "Can't load requested DLL: C:\\Program Files\\GDAL\\gdalplugins\\gdal_netCDF.dll\n",
      "127: The specified procedure could not be found.\n",
      "\n"
     ]
    }
   ],
   "source": [
    "'''\n",
    "Title: Identfying Remote Sensing Indicators of & Classifying Gypsy Moth Defoliation\n",
    "Date: July 13, 2020\n",
    "\n",
    "Description: This script was developed alongside my Intermediate Quantiative Method course project.\n",
    "The purpose of this project was to identify the most appropriate remote sensing indicators of Gypsy Moth defoliation and\n",
    "compare two populer methods of binary classification, Logisitic Regression and Discriminant Analysis. The study area\n",
    "for this study is an area of Gypsy Moth defoliation in New England (RI, CT, and Southern MA) from 2016. \n",
    "This project used the Landsat8 imagery (Bands1-7) and two raster layers provided by a doctoral student at Clark University. The first layer is a NLCD\n",
    "landcover map of the study area. The second layer is a binary classification of defoliation derived from the S-CCD algorithm.\n",
    "\n",
    "In this script, first I geoprocess the raster layers and prepare them for analysis. Then, I used TOC curves and Partial\n",
    "Component Analysis to assess which remote sensing indicators were best for identifying defoliation. Finally, using Su's\n",
    "binary classification as a \"truth\", I assessed whether Logistic Regression or Discriminant Analysis was better at\n",
    "differentiatingbetween the two classes.\n",
    "\n",
    "Note: This script uses R and Pythn simultaneously. This was done to access the TOC package available in R, but is not\n",
    "available in Python.\n",
    "\n",
    "''' \n",
    "\n",
    "\n",
    "#Import relevent libraries\n",
    "import numpy as np\n",
    "#Panda is a library for creating datframes\n",
    "import pandas as pd\n",
    "#SciKit learn is a library for scientific methods and tools\n",
    "import sklearn\n",
    "#matlpotlib is a library for data visualization\n",
    "import matplotlib.pyplot as plt\n",
    "#Seaborn is a library linked to matplotlib which makes nice graphics\n",
    "import seaborn as sns\n",
    "#Fiona is a library used to open and read geospatial files\n",
    "from fiona.crs import from_epsg\n",
    "#Geopandas is a library for making geographically referenced dataframe\n",
    "import geopandas as gpd\n",
    "#OS allows you to set a working folder. \n",
    "import os\n",
    "#PyCrs is a library for converting between coordinate systems\n",
    "import pycrs\n",
    "#Rasterio is a library for processing geospatial data\n",
    "import rasterio as rio\n",
    "#Load R language into Python. I am doing this because I want to use a particular package\n",
    "import rpy2.rinterface\n",
    "#Set working folder here\n",
    "dir = os.chdir(\"C:\\\\Users\\\\Emily\\\\Documents\\\\Summer_2020\\\\Py_DataScience_and_MachineLearning\\\\original\\\\Gypsy_Moth\\\\Landsat8Imagery\")"
   ]
  },
  {
   "cell_type": "code",
   "execution_count": 2,
   "metadata": {},
   "outputs": [
    {
     "name": "stdout",
     "output_type": "stream",
     "text": [
      "Loading extensions from ~\\.ipython\\extensions is deprecated. We recommend managing extensions like any other Python packages, in site-packages.\n"
     ]
    },
    {
     "name": "stderr",
     "output_type": "stream",
     "text": [
      "C:\\Users\\Emily\\anaconda3\\lib\\site-packages\\rpy2\\robjects\\pandas2ri.py:17: FutureWarning: pandas.core.index is deprecated and will be removed in a future version.  The public classes are available in the top-level namespace.\n",
      "  from pandas.core.index import Index as PandasIndex\n"
     ]
    }
   ],
   "source": [
    "%load_ext RWinOut\n",
    "#This ipython extension gets around display problems in the regular rpy2 extension"
   ]
  },
  {
   "cell_type": "markdown",
   "metadata": {},
   "source": [
    "# Geoprocessing of Raster Layers"
   ]
  },
  {
   "cell_type": "code",
   "execution_count": 3,
   "metadata": {},
   "outputs": [],
   "source": [
    "#Import TIF files - Landsat 8 and Gypsy Moth \n",
    "#Landsat 8 imagery for study area. The date of this imagery is July 13, 2016\n",
    "tif1 = r\"LC08_012031_20160713.tif\"\n",
    "#Hard classification of Gypsy Moth defoliation produced via SCCD \n",
    "tif2 = r\"gm_esri_UTM.tif\"\n",
    "#Landcover types\n",
    "tif3 = r\"Mask_LC_UTM.tif\""
   ]
  },
  {
   "cell_type": "code",
   "execution_count": 4,
   "metadata": {},
   "outputs": [],
   "source": [
    "#Use rasterio to open tif files and set them to a variable. NOw one can maniplulate the data\n",
    "raster1 = rio.open(tif1)\n",
    "SY_Data = rio.open(tif2)\n",
    "raster2 = rio.open(tif3)"
   ]
  },
  {
   "cell_type": "code",
   "execution_count": 5,
   "metadata": {
    "scrolled": true
   },
   "outputs": [
    {
     "name": "stdout",
     "output_type": "stream",
     "text": [
      "{'driver': 'GTiff', 'dtype': 'uint8', 'nodata': 3.0, 'width': 13984, 'height': 13788, 'count': 1, 'crs': CRS.from_epsg(32619), 'transform': Affine(30.0, 0.0, 95114.93530782993,\n",
      "       0.0, -30.0, 4826736.719272707)}\n",
      "{'driver': 'GTiff', 'dtype': 'float32', 'nodata': None, 'width': 7737, 'height': 7963, 'count': 8, 'crs': CRS.from_epsg(32619), 'transform': Affine(30.0, 0.0, 191025.0,\n",
      "       0.0, -30.0, 4744785.0)}\n",
      "{'driver': 'GTiff', 'dtype': 'int8', 'nodata': -128.0, 'width': 6260, 'height': 6170, 'count': 1, 'crs': CRS.from_epsg(32619), 'transform': Affine(30.0, 0.0, 206220.29643941775,\n",
      "       0.0, -30.0, 4712812.590616057)}\n"
     ]
    }
   ],
   "source": [
    "#Print metadata for each file to make sure images are functioning correctly. \n",
    "#This also reveals each layers size, projection, etc.\n",
    "print(SY_Data.meta)\n",
    "print(raster1.meta)\n",
    "print(raster2.meta)"
   ]
  },
  {
   "cell_type": "code",
   "execution_count": 6,
   "metadata": {},
   "outputs": [
    {
     "data": {
      "image/png": "[encoded data removed]",
      "text/plain": [
       "<Figure size 432x288 with 1 Axes>"
      ]
     },
     "metadata": {
      "needs_background": "light"
     },
     "output_type": "display_data"
    },
    {
     "data": {
      "text/plain": [
       "<matplotlib.axes._subplots.AxesSubplot at 0x1fa6cc8d388>"
      ]
     },
     "execution_count": 6,
     "metadata": {},
     "output_type": "execute_result"
    }
   ],
   "source": [
    "#Display raster data. This is also a test to see if that data is functioning correctly and allows to compare how each layer overlaps.\n",
    "from rasterio.plot import show\n",
    "#Show Landsat 8 tif. This shows the composit image, but one can also look at each band. \n",
    "show(raster1)"
   ]
  },
  {
   "cell_type": "code",
   "execution_count": 7,
   "metadata": {},
   "outputs": [
    {
     "data": {
      "image/png": "[encoded data removed]",
      "text/plain": [
       "<Figure size 432x288 with 1 Axes>"
      ]
     },
     "metadata": {
      "needs_background": "light"
     },
     "output_type": "display_data"
    },
    {
     "data": {
      "text/plain": [
       "<matplotlib.axes._subplots.AxesSubplot at 0x1fa205e5448>"
      ]
     },
     "execution_count": 7,
     "metadata": {},
     "output_type": "execute_result"
    }
   ],
   "source": [
    "#Show hard classification\n",
    "#Purpler = 0 (Foliated), Yellow = 1 (Defoliated). There are also some missing values here marked as \"3\".\n",
    "show(SY_Data)"
   ]
  },
  {
   "cell_type": "code",
   "execution_count": 8,
   "metadata": {},
   "outputs": [
    {
     "data": {
      "image/png": "[encoded data removed]",
      "text/plain": [
       "<Figure size 432x288 with 1 Axes>"
      ]
     },
     "metadata": {
      "needs_background": "light"
     },
     "output_type": "display_data"
    },
    {
     "data": {
      "text/plain": [
       "<matplotlib.axes._subplots.AxesSubplot at 0x1fa0e766a48>"
      ]
     },
     "execution_count": 8,
     "metadata": {},
     "output_type": "execute_result"
    }
   ],
   "source": [
    "#Show landuse data\n",
    "#There are about 15 different landuse classes in this map. Eventually, I want to isolated 41 (Deciduous Forest) and \n",
    "#43 (Mixed Forest), so limit spectral outliers.\n",
    "show(raster2)"
   ]
  },
  {
   "cell_type": "code",
   "execution_count": null,
   "metadata": {},
   "outputs": [],
   "source": [
    "#Here, I am reprojecting the TIF file to match the projection of the hard classification data. This code can be found \n",
    "#on the rasterio documentation.\n",
    "#All of my files ave an original projection of the Landsat 8 imagery is EPSG3261 (UTM 19N). I am changing it to EPSG6350 \n",
    "#(AlbersUS 1983). I did this because we're in a very small area and I want to ability to calculate area if necessary.\n",
    "\n",
    "#Set variable with desired projection\n",
    "dst_crs = 'EPSG:5070'\n",
    "\n",
    "#This function changes the image metadata, reprojects & resamples each band of the image, and saves it as a new file.\n",
    "#I turned this projection into a function so it can be used repeatedly. It takes four arguments - the input image name, the output\n",
    "#image name, the new projection, and resample type.\n",
    "def reproject(in_img, out_img, dst_crs, resample_type):\n",
    "    import numpy as np\n",
    "    import rasterio\n",
    "    from rasterio.warp import calculate_default_transform, reproject, Resampling\n",
    "\n",
    "    #The first section updates the image metadata\n",
    "    #First, it opens the original image\n",
    "    with rasterio.open(in_img) as src:\n",
    "        #Then, it stores the transform, width, and height for the new image. This determined using the \"calculate\n",
    "        #_default_transform function\". It calculates the transofrmation between the original projection and the new one\n",
    "        #while maintaining the original image dimensions.\n",
    "        transform, width, height = calculate_default_transform(src.crs, dst_crs, src.width, src.height, *src.bounds)\n",
    "        #Here, I used the variables above to update the metadata. Very important!\n",
    "        kwargs = src.meta.copy()\n",
    "        kwargs.update({\n",
    "            'crs': dst_crs,\n",
    "            'transform': transform,\n",
    "            'width': width,\n",
    "            'height': height\n",
    "        })\n",
    "        #The second section outputs the new reprojected and resampled image\n",
    "        #First, I identify the new file and allow python to write to the file\n",
    "        with rasterio.open(out_img, 'w', **kwargs) as dst:\n",
    "            #Now, I iterate through every band of each image reprojecting and resampling\n",
    "            for i in range(1, src.count + 1):\n",
    "                reproject(\n",
    "                    source=rasterio.band(src, i),\n",
    "                    destination=rasterio.band(dst, i),\n",
    "                    src_transform=src.transform,\n",
    "                    src_crs=src.crs,\n",
    "                    dst_transform=transform,\n",
    "                    dst_crs=dst_crs,\n",
    "                    resampling=resample_type)"
   ]
  },
  {
   "cell_type": "code",
   "execution_count": null,
   "metadata": {},
   "outputs": [],
   "source": [
    "#Reproject the landuse map using Nearest Neighbor resampling\n",
    "reproject(\"Mask_LC_UTM.tif\", \"Mask_LC_UTM_Albers83.tif\", 'EPSG:5070', Resampling.nearest)"
   ]
  },
  {
   "cell_type": "code",
   "execution_count": null,
   "metadata": {},
   "outputs": [],
   "source": [
    "#Reproject the Gypsy Moth defoliation map using Nearest Neighbor resampling\n",
    "reproject(\"gm_esri_UTM.tif\", \"gm_esri_UTM_Albers83.tif\", 'EPSG:5070', Resampling.nearest)"
   ]
  },
  {
   "cell_type": "code",
   "execution_count": null,
   "metadata": {},
   "outputs": [],
   "source": [
    "#Reproject the Landsat8 Bands using Bilinear resampling\n",
    "reproject(\"LC08_012031_20160713.tif\", \"LC08_012031_20160713_Reproj.tif\", 'EPSG:5070', Resampling.bilinear)"
   ]
  },
  {
   "cell_type": "code",
   "execution_count": 9,
   "metadata": {},
   "outputs": [
    {
     "data": {
      "text/plain": [
       "384000000.0"
      ]
     },
     "execution_count": 9,
     "metadata": {},
     "output_type": "execute_result"
    }
   ],
   "source": [
    "#Now I will mask all of image files to a specific polygon vector. \n",
    "\n",
    "#Import the polygon creation function\n",
    "from shapely.geometry import Polygon\n",
    "#Create a polygon and set the coordinate points. \n",
    "poly = Polygon([(1990000, 2331000), (1991000, 2353000), (1984000, 2353000), (1973000, 2352000), (1975000, 2328000), (1990000, 2331000)])\n",
    "#I tested that this function worked by calculating the area\n",
    "poly.area"
   ]
  },
  {
   "cell_type": "code",
   "execution_count": 10,
   "metadata": {},
   "outputs": [],
   "source": [
    "from shapely.geometry import box\n",
    "\n",
    "GMbb = box(1991000, 2328000, 1973000, 2353000)"
   ]
  },
  {
   "cell_type": "code",
   "execution_count": 11,
   "metadata": {},
   "outputs": [
    {
     "name": "stdout",
     "output_type": "stream",
     "text": [
      "                                            geometry\n",
      "0  POLYGON ((1973000.000 2328000.000, 1973000.000...\n"
     ]
    },
    {
     "name": "stderr",
     "output_type": "stream",
     "text": [
      "C:\\Users\\Emily\\anaconda3\\lib\\site-packages\\pyproj\\crs\\crs.py:53: FutureWarning: '+init=<authority>:<code>' syntax is deprecated. '<authority>:<code>' is the preferred initialization method. When making the change, be mindful of axis order changes: https://pyproj4.github.io/pyproj/stable/gotchas.html#axis-order-changes-in-proj-6\n",
      "  return _prepare_from_string(\" \".join(pjargs))\n"
     ]
    }
   ],
   "source": [
    "#Here I create a geodataframe using GeoPandas to contain my polygon feature. This line inserts the polygon I created\n",
    "#into a dataframe and assigns the projection.\n",
    "geo = gpd.GeoDataFrame({'geometry': GMbb}, index=[0], crs=from_epsg(5070))\n",
    "#I assigned the geometry column to the \"geom\" named column. Prior to this, json was having trouble identifying geomtries\n",
    "#in my geopandas dataframe. Not sure if it's completely necessary now because I reinstalled the package since. \n",
    "#geo = geo.rename(columns={'geometry': 'geom'}).set_geometry('geom')\n",
    "#Print dataframe\n",
    "print (geo)"
   ]
  },
  {
   "cell_type": "code",
   "execution_count": 12,
   "metadata": {},
   "outputs": [
    {
     "name": "stdout",
     "output_type": "stream",
     "text": [
      "{'type': 'Polygon', 'coordinates': [[[1973000.0, 2328000.0], [1973000.0, 2353000.0], [1991000.0, 2353000.0], [1991000.0, 2328000.0], [1973000.0, 2328000.0]]]}\n"
     ]
    }
   ],
   "source": [
    "#Checking that my geopandas dataframe is valid\n",
    "from rasterio.features import is_valid_geom\n",
    "is_valid_geom(geo.iloc[0]['geometry'])\n",
    "\n",
    "#This funciton parses the geodataframe into a format which can be used for rasterio\n",
    "def getFeatures(gdf):\n",
    "    import json\n",
    "    return [json.loads(gdf.to_json())['features'][0]['geometry']]\n",
    "\n",
    "#Here, I set the parsed coordinates to a variables and print them\n",
    "coords = getFeatures(geo)\n",
    "print(coords[0])"
   ]
  },
  {
   "cell_type": "code",
   "execution_count": 13,
   "metadata": {},
   "outputs": [],
   "source": [
    "#A function to mask each image\n",
    "def mask_img(in_img, out_img, shape):\n",
    "    #open the source image\n",
    "    with rio.open(in_img) as src:\n",
    "        from rasterio.mask import mask\n",
    "        #crop the source image using the polygon shape and crop the image.\n",
    "        out_image, out_transform = mask(src, shape, crop=True)\n",
    "        #Originally, we will copy over the source metadata\n",
    "        out_meta = src.meta\n",
    "        #Update image size and transformation\n",
    "        out_meta.update({\"driver\": \"GTiff\",\n",
    "                     \"height\": out_image.shape[1],\n",
    "                     \"width\": out_image.shape[2],\n",
    "                     \"transform\": out_transform})\n",
    "    #Write new image\n",
    "    with rio.open(out_img, \"w\", **out_meta) as dest:\n",
    "        dest.write(out_image)"
   ]
  },
  {
   "cell_type": "code",
   "execution_count": 14,
   "metadata": {},
   "outputs": [],
   "source": [
    "#Mask Landcover Data\n",
    "mask_img(\"Mask_LC_UTM_Albers83.tif\", \"LC_masked.tif\", coords)\n"
   ]
  },
  {
   "cell_type": "code",
   "execution_count": 15,
   "metadata": {},
   "outputs": [],
   "source": [
    "#Mask Gypsy Moth 2016 Data\n",
    "mask_img(\"gm_esri_UTM_Albers83.tif\", \"GM_masked.tif\", coords)"
   ]
  },
  {
   "cell_type": "code",
   "execution_count": 16,
   "metadata": {},
   "outputs": [],
   "source": [
    "#Mask Satellite Imagery\n",
    "mask_img(\"LC08_012031_20160713_Reproj.tif\", \"LC08_012031_20160713_Masked.tif\", coords)"
   ]
  },
  {
   "cell_type": "markdown",
   "metadata": {},
   "source": [
    "# Dataframe Preprocessing"
   ]
  },
  {
   "cell_type": "code",
   "execution_count": 15,
   "metadata": {},
   "outputs": [
    {
     "name": "stdout",
     "output_type": "stream",
     "text": [
      "(835, 601)\n",
      "501835\n",
      "(835, 601)\n",
      "501835\n",
      "(835, 601)\n",
      "501835\n"
     ]
    }
   ],
   "source": [
    "#Open and flatten all clipped layers as numpy arrays so they can be organized into a Pandas dataframe\n",
    "#Here I use the package OSGEO (an open-source library for geogrpahic data) to convert my TIF imagery to numpy arrays. \n",
    "#I had issues trying to do this with rasterio hence why I used this other library.\n",
    "from osgeo import gdal\n",
    "#Open the masked landuse image\n",
    "ds = gdal.Open(\"LC_masked.tif\")\n",
    "#Specify the band you want and read is as an array\n",
    "Clip_LC = np.array(ds.GetRasterBand(1).ReadAsArray())\n",
    "#I printed the shape as a check point - I want to make sure all of my files definitely have the same geometry\n",
    "print (Clip_LC.shape)\n",
    "#Here I flatten the 2-D array to a 1-D array\n",
    "Clip_LC = Clip_LC.flatten()\n",
    "#Print length of the 1-D array, i.e. the # of observations of per column in the dataframe\n",
    "print (len(Clip_LC))\n",
    "\n",
    "#Repeat the process for the Defoliation layer\n",
    "ds = gdal.Open(\"GM_masked.tif\")\n",
    "Clip_GM = np.array(ds.GetRasterBand(1).ReadAsArray())\n",
    "print(Clip_GM.shape)\n",
    "Clip_GM = Clip_GM.flatten()\n",
    "print (len(Clip_GM))\n",
    "\n",
    "#For the final TIF, we will repeat the process for each band of the Landsat8 image\n",
    "#The process is the same, except I alter the band number\n",
    "ds = gdal.Open(\"LC08_012031_20160713_Masked.tif\")\n",
    "Band1 = np.array(ds.GetRasterBand(1).ReadAsArray())\n",
    "print (Band1.shape)\n",
    "Band1 = Band1.flatten()\n",
    "print (len(Band1))\n",
    "Band2 = np.array(ds.GetRasterBand(2).ReadAsArray())\n",
    "Band2 = Band2.flatten()\n",
    "Band3 = np.array(ds.GetRasterBand(3).ReadAsArray())\n",
    "Band3 = Band3.flatten()\n",
    "Band4 = np.array(ds.GetRasterBand(4).ReadAsArray())\n",
    "Band4 = Band4.flatten()\n",
    "Band5 = np.array(ds.GetRasterBand(5).ReadAsArray())\n",
    "Band5 = Band5.flatten()\n",
    "Band6 = np.array(ds.GetRasterBand(6).ReadAsArray())\n",
    "Band6 = Band6.flatten()\n",
    "Band7 = np.array(ds.GetRasterBand(7).ReadAsArray())\n",
    "Band7 = Band7.flatten()\n",
    "Band8 = np.array(ds.GetRasterBand(8).ReadAsArray())\n",
    "Band8 = Band8.flatten()\n",
    "               "
   ]
  },
  {
   "cell_type": "code",
   "execution_count": 16,
   "metadata": {},
   "outputs": [],
   "source": [
    "#Stack all data using Numpy. This allows each image to become a column in the dataframe\n",
    "GM_Stack = np.column_stack([Clip_LC, Clip_GM, Band1, Band2, Band3, Band4, Band5, Band6, Band7, Band8])"
   ]
  },
  {
   "cell_type": "code",
   "execution_count": 17,
   "metadata": {},
   "outputs": [
    {
     "data": {
      "text/html": [
       "<div>\n",
       "<style scoped>\n",
       "    .dataframe tbody tr th:only-of-type {\n",
       "        vertical-align: middle;\n",
       "    }\n",
       "\n",
       "    .dataframe tbody tr th {\n",
       "        vertical-align: top;\n",
       "    }\n",
       "\n",
       "    .dataframe thead th {\n",
       "        text-align: right;\n",
       "    }\n",
       "</style>\n",
       "<table border=\"1\" class=\"dataframe\">\n",
       "  <thead>\n",
       "    <tr style=\"text-align: right;\">\n",
       "      <th></th>\n",
       "      <th>Landcover</th>\n",
       "      <th>GM_Presence</th>\n",
       "      <th>Band1</th>\n",
       "      <th>Band2</th>\n",
       "      <th>Band3</th>\n",
       "      <th>Band4</th>\n",
       "      <th>Band5</th>\n",
       "      <th>Band6</th>\n",
       "      <th>Band7</th>\n",
       "      <th>Band8</th>\n",
       "    </tr>\n",
       "  </thead>\n",
       "  <tbody>\n",
       "    <tr>\n",
       "      <th>count</th>\n",
       "      <td>501835.000000</td>\n",
       "      <td>501835.000000</td>\n",
       "      <td>467602.000000</td>\n",
       "      <td>467602.000000</td>\n",
       "      <td>467602.000000</td>\n",
       "      <td>467602.000000</td>\n",
       "      <td>467602.000000</td>\n",
       "      <td>467602.000000</td>\n",
       "      <td>467602.000000</td>\n",
       "      <td>467602.000000</td>\n",
       "    </tr>\n",
       "    <tr>\n",
       "      <th>mean</th>\n",
       "      <td>43.482059</td>\n",
       "      <td>0.299104</td>\n",
       "      <td>272.713989</td>\n",
       "      <td>314.498199</td>\n",
       "      <td>581.681824</td>\n",
       "      <td>451.958191</td>\n",
       "      <td>3160.610107</td>\n",
       "      <td>1994.963013</td>\n",
       "      <td>948.036438</td>\n",
       "      <td>320.695587</td>\n",
       "    </tr>\n",
       "    <tr>\n",
       "      <th>std</th>\n",
       "      <td>29.861376</td>\n",
       "      <td>0.569453</td>\n",
       "      <td>82.378769</td>\n",
       "      <td>95.102249</td>\n",
       "      <td>129.123108</td>\n",
       "      <td>194.881317</td>\n",
       "      <td>774.922363</td>\n",
       "      <td>505.798798</td>\n",
       "      <td>339.448669</td>\n",
       "      <td>21.262844</td>\n",
       "    </tr>\n",
       "    <tr>\n",
       "      <th>min</th>\n",
       "      <td>-128.000000</td>\n",
       "      <td>0.000000</td>\n",
       "      <td>-285.119171</td>\n",
       "      <td>-169.503998</td>\n",
       "      <td>0.000000</td>\n",
       "      <td>0.000000</td>\n",
       "      <td>0.000000</td>\n",
       "      <td>0.000000</td>\n",
       "      <td>0.000000</td>\n",
       "      <td>0.000000</td>\n",
       "    </tr>\n",
       "    <tr>\n",
       "      <th>25%</th>\n",
       "      <td>41.000000</td>\n",
       "      <td>0.000000</td>\n",
       "      <td>233.140060</td>\n",
       "      <td>262.639893</td>\n",
       "      <td>523.743774</td>\n",
       "      <td>309.527588</td>\n",
       "      <td>2749.899902</td>\n",
       "      <td>1787.957153</td>\n",
       "      <td>726.968384</td>\n",
       "      <td>322.000000</td>\n",
       "    </tr>\n",
       "    <tr>\n",
       "      <th>50%</th>\n",
       "      <td>41.000000</td>\n",
       "      <td>0.000000</td>\n",
       "      <td>271.340759</td>\n",
       "      <td>301.150146</td>\n",
       "      <td>579.161133</td>\n",
       "      <td>409.704102</td>\n",
       "      <td>3179.970459</td>\n",
       "      <td>1981.015625</td>\n",
       "      <td>897.574036</td>\n",
       "      <td>322.000000</td>\n",
       "    </tr>\n",
       "    <tr>\n",
       "      <th>75%</th>\n",
       "      <td>43.000000</td>\n",
       "      <td>1.000000</td>\n",
       "      <td>310.143219</td>\n",
       "      <td>357.896484</td>\n",
       "      <td>636.399536</td>\n",
       "      <td>564.729248</td>\n",
       "      <td>3672.035156</td>\n",
       "      <td>2279.907227</td>\n",
       "      <td>1158.085449</td>\n",
       "      <td>322.000000</td>\n",
       "    </tr>\n",
       "    <tr>\n",
       "      <th>max</th>\n",
       "      <td>95.000000</td>\n",
       "      <td>3.000000</td>\n",
       "      <td>3261.919434</td>\n",
       "      <td>3742.094971</td>\n",
       "      <td>4171.775879</td>\n",
       "      <td>4495.917969</td>\n",
       "      <td>6328.212402</td>\n",
       "      <td>5355.331055</td>\n",
       "      <td>4868.395508</td>\n",
       "      <td>386.000000</td>\n",
       "    </tr>\n",
       "  </tbody>\n",
       "</table>\n",
       "</div>"
      ],
      "text/plain": [
       "           Landcover    GM_Presence          Band1          Band2  \\\n",
       "count  501835.000000  501835.000000  467602.000000  467602.000000   \n",
       "mean       43.482059       0.299104     272.713989     314.498199   \n",
       "std        29.861376       0.569453      82.378769      95.102249   \n",
       "min      -128.000000       0.000000    -285.119171    -169.503998   \n",
       "25%        41.000000       0.000000     233.140060     262.639893   \n",
       "50%        41.000000       0.000000     271.340759     301.150146   \n",
       "75%        43.000000       1.000000     310.143219     357.896484   \n",
       "max        95.000000       3.000000    3261.919434    3742.094971   \n",
       "\n",
       "               Band3          Band4          Band5          Band6  \\\n",
       "count  467602.000000  467602.000000  467602.000000  467602.000000   \n",
       "mean      581.681824     451.958191    3160.610107    1994.963013   \n",
       "std       129.123108     194.881317     774.922363     505.798798   \n",
       "min         0.000000       0.000000       0.000000       0.000000   \n",
       "25%       523.743774     309.527588    2749.899902    1787.957153   \n",
       "50%       579.161133     409.704102    3179.970459    1981.015625   \n",
       "75%       636.399536     564.729248    3672.035156    2279.907227   \n",
       "max      4171.775879    4495.917969    6328.212402    5355.331055   \n",
       "\n",
       "               Band7          Band8  \n",
       "count  467602.000000  467602.000000  \n",
       "mean      948.036438     320.695587  \n",
       "std       339.448669      21.262844  \n",
       "min         0.000000       0.000000  \n",
       "25%       726.968384     322.000000  \n",
       "50%       897.574036     322.000000  \n",
       "75%      1158.085449     322.000000  \n",
       "max      4868.395508     386.000000  "
      ]
     },
     "execution_count": 17,
     "metadata": {},
     "output_type": "execute_result"
    }
   ],
   "source": [
    "#A Pandas dataframe was then created from with the vertically stacked 2D array, GM_Data, and assigned column names.\n",
    "GM_Data = pd.DataFrame(GM_Stack, columns=['Landcover', 'GM_Presence', 'Band1', 'Band2', 'Band3', 'Band4', 'Band5', 'Band6', 'Band7', 'Band8'])\n",
    "#Get a description of data - a check to make sure it looks okay\n",
    "GM_Data.describe()"
   ]
  },
  {
   "cell_type": "code",
   "execution_count": 18,
   "metadata": {},
   "outputs": [
    {
     "data": {
      "text/plain": [
       "Landcover      0\n",
       "GM_Presence    0\n",
       "Band1          0\n",
       "Band2          0\n",
       "Band3          0\n",
       "Band4          0\n",
       "Band5          0\n",
       "Band6          0\n",
       "Band7          0\n",
       "Band8          0\n",
       "dtype: int64"
      ]
     },
     "execution_count": 18,
     "metadata": {},
     "output_type": "execute_result"
    }
   ],
   "source": [
    "#Here I Replace Null values with Zero\n",
    "GM_Data.fillna(0, inplace=True)\n",
    "#Sum all the null values in each column to make sure it worked\n",
    "GM_Data.isnull().sum()"
   ]
  },
  {
   "cell_type": "code",
   "execution_count": 19,
   "metadata": {},
   "outputs": [
    {
     "data": {
      "text/plain": [
       "array([  43.,   90.,   22.,   42.,   41.,   21.,   81.,   11.,   71.,\n",
       "         31.,   23.,   95.,   52.,   24.,   82., -128.], dtype=float32)"
      ]
     },
     "execution_count": 19,
     "metadata": {},
     "output_type": "execute_result"
    }
   ],
   "source": [
    "#Check what unique landcover types there are\n",
    "GM_Data.Landcover.unique()"
   ]
  },
  {
   "cell_type": "code",
   "execution_count": 20,
   "metadata": {},
   "outputs": [],
   "source": [
    "# Replacing rows with 0 where Landcover is not 41 (Deciduous) and 43 (Mixed Forest)\n",
    "GM_Data.loc[((GM_Data['Landcover'] != 43.0) & (GM_Data['Landcover'] != 41.0)), 'GM_Presence'] = 0\n",
    "GM_Data.loc[((GM_Data['Landcover'] != 43.0) & (GM_Data['Landcover'] != 41.0)), 'Band1'] = 0\n",
    "GM_Data.loc[((GM_Data['Landcover'] != 43.0) & (GM_Data['Landcover'] != 41.0)), 'Band2'] = 0\n",
    "GM_Data.loc[((GM_Data['Landcover'] != 43.0) & (GM_Data['Landcover'] != 41.0)), 'Band3'] = 0\n",
    "GM_Data.loc[((GM_Data['Landcover'] != 43.0) & (GM_Data['Landcover'] != 41.0)), 'Band4'] = 0\n",
    "GM_Data.loc[((GM_Data['Landcover'] != 43.0) & (GM_Data['Landcover'] != 41.0)), 'Band5'] = 0\n",
    "GM_Data.loc[((GM_Data['Landcover'] != 43.0) & (GM_Data['Landcover'] != 41.0)), 'Band6'] = 0\n",
    "GM_Data.loc[((GM_Data['Landcover'] != 43.0) & (GM_Data['Landcover'] != 41.0)), 'Band7'] = 0\n",
    "GM_Data.loc[((GM_Data['Landcover'] != 43.0) & (GM_Data['Landcover'] != 41.0)), 'Band8'] = 0\n",
    "\n",
    "# Replace rows with 0 where Cloudcover = 0\n",
    "GM_Data.loc[(GM_Data['Band8'] == 0.0), 'Band1'] = 0\n",
    "GM_Data.loc[(GM_Data['Band8'] == 0.0), 'Band2'] = 0             \n",
    "GM_Data.loc[(GM_Data['Band8'] == 0.0), 'Band3'] = 0\n",
    "GM_Data.loc[(GM_Data['Band8'] == 0.0), 'Band4'] = 0\n",
    "GM_Data.loc[(GM_Data['Band8'] == 0.0), 'Band5'] = 0\n",
    "GM_Data.loc[(GM_Data['Band8'] == 0.0), 'Band6'] = 0\n",
    "GM_Data.loc[(GM_Data['Band8'] == 0.0), 'Band7'] = 0\n",
    "\n",
    "#This is the final form of my original dataframe - GM_Data"
   ]
  },
  {
   "cell_type": "code",
   "execution_count": 21,
   "metadata": {},
   "outputs": [],
   "source": [
    "#Drop rows which are not target landuses, where the GM layer hase no data, or if the rows are covered in clouds\n",
    "indexNames = GM_Data[(GM_Data['Landcover'] != 41) & (GM_Data['Landcover'] != 43) | (GM_Data['GM_Presence'] == 3) | (GM_Data['Band8'] == 0)].index\n",
    "#Make a new dataframe with only the select rows. However, this will maintain the original index\n",
    "GM_Select = GM_Data.drop(indexNames)"
   ]
  },
  {
   "cell_type": "code",
   "execution_count": 22,
   "metadata": {},
   "outputs": [
    {
     "name": "stdout",
     "output_type": "stream",
     "text": [
      "        Landcover  GM_Presence       Band1       Band2        Band3  \\\n",
      "602          43.0          0.0  303.164825  415.967316   789.300415   \n",
      "603          43.0          0.0  338.623688  449.160767   738.687439   \n",
      "604          43.0          0.0  299.536682  416.954041   733.375916   \n",
      "605          41.0          0.0  332.190002  444.117798   854.510742   \n",
      "606          41.0          0.0  523.816040  634.345642  1083.464844   \n",
      "...           ...          ...         ...         ...          ...   \n",
      "501084       43.0          0.0  176.760757  223.303848   522.896484   \n",
      "501085       43.0          0.0  185.020050  227.481110   514.465515   \n",
      "501086       41.0          0.0  193.221130  230.548569   507.148224   \n",
      "501087       43.0          0.0  198.774643  231.799988   515.386780   \n",
      "501088       43.0          0.0  208.610306  234.628723   504.191711   \n",
      "\n",
      "             Band4        Band5        Band6        Band7       Band8  \\\n",
      "602     596.334839  4376.997559  2080.958740  1023.578857  330.081268   \n",
      "603     585.709717  3793.870117  1848.838379   977.996216  354.348724   \n",
      "604     574.754944  3553.045410  1864.903320  1062.451538  379.142090   \n",
      "605     664.100464  3829.521729  2126.562256  1236.087891  386.000000   \n",
      "606     874.682068  4241.624023  2482.150635  1445.479980  386.000000   \n",
      "...            ...          ...          ...          ...         ...   \n",
      "501084  323.037628  3439.007812  1702.188354   684.238342  322.000000   \n",
      "501085  309.893646  3566.219971  1743.382202   690.474548  322.000000   \n",
      "501086  306.898224  3644.327393  1776.658325   703.999023  322.000000   \n",
      "501087  303.810822  3707.614014  1802.756104   718.708740  322.000000   \n",
      "501088  280.949738  3869.379883  1783.719849   707.966370  322.000000   \n",
      "\n",
      "            NDVI      SAVI       MSAVI      NDMI     TCBright      TCGreen  \\\n",
      "602     0.760187 -0.092807  596.511597  0.355536  4327.562500  2530.895996   \n",
      "603     0.732527 -0.076976  585.948792  0.344698  3865.544189  2105.692383   \n",
      "604     0.721520 -0.080808  574.979248  0.311583  3738.257324  1934.737671   \n",
      "605     0.704425 -0.083562  664.314026  0.285919  4142.747070  2040.751465   \n",
      "606     0.658081 -0.071064  874.943542  0.261679  4814.395508  2106.479248   \n",
      "...          ...       ...         ...       ...          ...          ...   \n",
      "501084  0.828265 -0.157412  322.920502  0.337824  3284.512939  2145.609131   \n",
      "501085  0.840101 -0.165339  309.735260  0.343310  3370.528320  2248.052734   \n",
      "501086  0.844657 -0.163895  306.747467  0.344526  3431.169434  2307.582275   \n",
      "501087  0.848527 -0.172076  303.616364  0.345686  3483.828125  2352.429688   \n",
      "501088  0.864613 -0.189435  280.657654  0.368941  3549.636963  2484.788818   \n",
      "\n",
      "             TCWet  \n",
      "602     -42.066620  \n",
      "603     -63.215668  \n",
      "604    -204.712006  \n",
      "605    -318.563477  \n",
      "606    -383.644226  \n",
      "...            ...  \n",
      "501084 -108.759949  \n",
      "501085 -102.926880  \n",
      "501086 -108.127716  \n",
      "501087 -111.044952  \n",
      "501088  -46.772491  \n",
      "\n",
      "[314346 rows x 17 columns]\n"
     ]
    }
   ],
   "source": [
    "#Using the limited dataframe, I created new columns and calculated RS Indices\n",
    "GM_Select['NDVI'] = (GM_Select['Band5'] - GM_Select['Band4'])/(GM_Select['Band5'] + GM_Select['Band4'])\n",
    "GM_Select['SAVI'] = (GM_Select['Band4'] - GM_Select['Band3'])/((GM_Select['Band4'] + GM_Select['Band3'] + 0.5) * 1.5)\n",
    "GM_Select['MSAVI'] = (2 * GM_Select['Band4'] + 1 - np.sqrt((2 * GM_Select['Band4'] + 1)**2 - 8*(GM_Select['Band4'] - GM_Select['Band3']))/2)\n",
    "GM_Select['NDMI'] = (GM_Select['Band5'] - GM_Select['Band6'])/(GM_Select['Band5'] + GM_Select['Band6'])\n",
    "GM_Select['TCBright'] = (0.3029*GM_Select['Band2'] + .2786*GM_Select['Band3'] + .4733*GM_Select['Band4'] + .5599*GM_Select['Band5'] + .508*GM_Select['Band6'] + .1872*GM_Select['Band7'])\n",
    "GM_Select['TCGreen'] = (-.2941*GM_Select['Band2'] + -.243*GM_Select['Band3'] + -.5424*GM_Select['Band4'] + .7276*GM_Select['Band5'] + .0713*GM_Select['Band6'] + -.1608*GM_Select['Band7'])\n",
    "GM_Select['TCWet'] = (0.1511*GM_Select['Band2'] + .1973*GM_Select['Band3'] + .3283*GM_Select['Band4'] + .3407*GM_Select['Band5'] + -.7117*GM_Select['Band6'] + -.4559*GM_Select['Band7'])\n",
    "#Print to make sure it looks corect\n",
    "print (GM_Select)\n",
    "#I exported the limited dataframe to a a CSV in order to open it in the R cells more easliy. I was having trouble transferring the Python dataframe directly to R.\n",
    "GM_Select.to_csv(\"C:\\\\Users\\\\Emily\\\\Documents\\\\Summer_2020\\\\Py_DataScience_and_MachineLearning\\\\original\\\\Gypsy_Moth\\\\Landsat8Imagery\\\\GM_Select.csv\")"
   ]
  },
  {
   "cell_type": "markdown",
   "metadata": {},
   "source": [
    "# Multiple TOC Curve"
   ]
  },
  {
   "cell_type": "code",
   "execution_count": 23,
   "metadata": {},
   "outputs": [
    {
     "name": "stdout",
     "output_type": "stream",
     "text": [
      "package 'Rcpp' successfully unpacked and MD5 sums checked\n",
      "package 'sp' successfully unpacked and MD5 sums checked\n",
      "package 'bit' successfully unpacked and MD5 sums checked\n",
      "package 'rgdal' successfully unpacked and MD5 sums checked\n",
      "package 'raster' successfully unpacked and MD5 sums checked\n",
      "--- Please select a CRAN mirror for use in this session ---\n"
     ]
    }
   ],
   "source": [
    "%%R\n",
    "#The symbol %%R calls R Magic and designates that this cell will use R, not Python\n",
    "#Here I am installing several packages that are dependencies for th TOC package, which is what I want to use\n",
    "install.packages('utils', repos='http://cran.us.r-project.org', quiet=TRUE )\n",
    "library(utils)\n",
    "install.packages(\"Rcpp\", repos='http://cran.us.r-project.org', quiet=TRUE)\n",
    "library(Rcpp)\n",
    "install.packages(\"sp\", repos='http://cran.us.r-project.org', quiet=TRUE)\n",
    "library(sp)\n",
    "install.packages(\"bit\", repos='http://cran.us.r-project.org', quiet=TRUE)\n",
    "library(bit)\n",
    "install.packages(\"rgdal\", repos='http://cran.us.r-project.org', quiet=TRUE)\n",
    "library(rgdal)\n",
    "install.packages(\"raster\", repos='http://cran.us.r-project.org', quiet=TRUE)\n",
    "library(raster)\n",
    "install.packages('TOC','C:/Users/Emily/anaconda3/lib/R/library/',type = 'source')\n",
    "library(TOC)"
   ]
  },
  {
   "cell_type": "code",
   "execution_count": 8,
   "metadata": {},
   "outputs": [],
   "source": [
    "%%R\n",
    "##Set the working directory to appropriate folder\n",
    "setwd(\"C:/Users/Emily/Documents/Summer_2020/Py_DataScience_and_MachineLearning/original/Gypsy_Moth/Landsat8Imagery/\")\n",
    "##Open the CV+SV saved from the earlier portion of this code.\n",
    "GM_Select_r <- read.csv(file =\"GM_Select.csv\", header=TRUE, dec=\".\", stringsAsFactors=FALSE)"
   ]
  },
  {
   "cell_type": "code",
   "execution_count": 11,
   "metadata": {},
   "outputs": [],
   "source": [
    "%%R\n",
    "##Create new numeric variables from dataframe columns. TOC requires this format in order to run. It will not intake columns as is.\n",
    "indexB1 <- (GM_Select_r$Band1)\n",
    "indexB2 <- (GM_Select_r$Band2)\n",
    "indexB3 <- (GM_Select_r$Band3)\n",
    "indexB4 <- (GM_Select_r$Band4)\n",
    "indexB5 <- (GM_Select_r$Band5)\n",
    "indexB6 <- (GM_Select_r$Band6)\n",
    "indexB7 <- (GM_Select_r$Band7)\n",
    "indexNDVI <- (GM_Select_r$NDVI)\n",
    "indexSAVI <- (GM_Select_r$SAVI)\n",
    "indexMSAVI <- (GM_Select_r$MSAVI)\n",
    "indexNDMI <- (GM_Select_r$NDMI)\n",
    "indexTCB <- (GM_Select_r$TCBright)\n",
    "indexTCG <- (GM_Select_r$TCGreen)\n",
    "indexTCW <- (GM_Select_r$TCWet)\n",
    "\n",
    "##Create reference boolean image for input into TOC\n",
    "boolean <- (GM_Select_r$GM_Presence)"
   ]
  },
  {
   "cell_type": "code",
   "execution_count": 12,
   "metadata": {},
   "outputs": [],
   "source": [
    "%%R\n",
    "##Create TOC objects. These lines creates 100 equal intervals for each index variable. \n",
    "##For these TOC objects, only the Indices change.Ther is one TOC object per index variable.\n",
    "tocdB1 <- TOC(indexB1, boolean, nthres=100, thres=NULL, P=NA, Q=NA,\n",
    "              progress=FALSE, units=character(0))\n",
    "tocdB2 <- TOC(indexB2, boolean, mask, nthres=100, thres=NULL, P=NA, Q=NA,\n",
    "              progress=FALSE, units=character(0))\n",
    "tocdB3 <- TOC(indexB3, boolean, mask, nthres=100, thres=NULL, P=NA, Q=NA,\n",
    "              progress=FALSE, units=character(0))\n",
    "tocdB4 <- TOC(indexB4, boolean, mask, nthres=100, thres=NULL, P=NA, Q=NA,\n",
    "              progress=FALSE, units=character(0))\n",
    "tocdB5 <- TOC(indexB5, boolean, mask, nthres=100, thres=NULL, P=NA, Q=NA,\n",
    "              progress=FALSE, units=character(0))\n",
    "tocdB6 <- TOC(indexB6, boolean, mask, nthres=100, thres=NULL, P=NA, Q=NA,\n",
    "              progress=FALSE, units=character(0))\n",
    "tocdB7 <- TOC(indexB7, boolean, mask, nthres=100, thres=NULL, P=NA, Q=NA,\n",
    "              progress=FALSE, units=character(0))\n",
    "tocdNDVI <- TOC(indexNDVI, boolean, mask, nthres=100, thres=NULL, P=NA, Q=NA,\n",
    "                progress=FALSE, units=character(0))\n",
    "tocdSAVI <- TOC(indexSAVI, boolean, mask, nthres=100, thres=NULL, P=NA, Q=NA,\n",
    "                progress=FALSE, units=character(0))\n",
    "tocdMSAVI <- TOC(indexMSAVI, boolean, mask, nthres=100, thres=NULL, P=NA, Q=NA,\n",
    "                 progress=FALSE, units=character(0))\n",
    "tocdNDMI <- TOC(indexNDMI, boolean, mask, nthres=100, thres=NULL, P=NA, Q=NA,\n",
    "                progress=FALSE, units=character(0))\n",
    "tocdTCB <- TOC(indexTCB, boolean, mask, nthres=100, thres=NULL, P=NA, Q=NA,\n",
    "               progress=FALSE, units=character(0))\n",
    "tocdTCG <- TOC(indexTCG, boolean, mask, nthres=100, thres=NULL, P=NA, Q=NA,\n",
    "               progress=FALSE, units=character(0))\n",
    "tocdTCW <- TOC(indexTCW, boolean, mask, nthres=100, thres=NULL, P=NA, Q=NA,\n",
    "               progress=FALSE, units=character(0))"
   ]
  },
  {
   "cell_type": "code",
   "execution_count": 13,
   "metadata": {},
   "outputs": [
    {
     "name": "stdout",
     "output_type": "stream",
     "text": [
      "png \n",
      "  2 \n"
     ]
    }
   ],
   "source": [
    "%%R\n",
    "#In this cell, I am creating the multiple TOC Curve image\n",
    "#Here, I am designating a JPG file to export TOC plot\n",
    "png(file = \"GM_Multi_TOC_Code.jpg\", width = 550, height = 480)\n",
    "\n",
    "#Set the image plot to a square\n",
    "par(pty=\"s\")\n",
    "#Create plot object and axes\n",
    "graphics::plot(1, type=\"l\", main = \"TOC Curve\", lty=\"dashed\",xlab= \"Hits+False Alarms (Pixels)\", ylab=\"Hits (Pixels)\",lwd=2, col=rgb(128,100,162, maxColorValue=255), xlim=c(0, 314346),ylim=c(0, 101575), bty='L')\n",
    "\n",
    "#Plotting multiple lines to create multi-TOC plot\n",
    "#minimum line\n",
    "lines(c(0, 101575), c(0,101575), \n",
    "      lty=\"dotdash\", lwd=2, col=rgb(50, 50,50, maxColorValue=255)) \n",
    "#maximum line\n",
    "lines(c(212771, 314346), c(0,101575), \n",
    "      lty=\"dotdash\", lwd=2, col=rgb(50,50,50, maxColorValue=255)) \n",
    "\n",
    "#hits+misses line\n",
    "lines(c(0, 314346), c(101575, 101575), lwd=3, col=rgb(150,150,150, maxColorValue=255))\n",
    "\n",
    "#uniform line\n",
    "lines(c(0, 314346), c(0, 101575), lty=\"dotted\", lwd=2, col=rgb(25,25,25, maxColorValue=255))\n",
    "\n",
    "#TOC object lines\n",
    "#Band1\n",
    "lines(tocdB1@table$\"Hits+FalseAlarms\", tocdB1@table$Hits, lwd=2, col=rgb(255,0,255, maxColorValue=255))\n",
    "#Band2\n",
    "lines(tocdB2@table$\"Hits+FalseAlarms\", tocdB2@table$Hits, lwd=2, col=rgb(0,0,255, maxColorValue=255))\n",
    "#Band3\n",
    "lines(tocdB3@table$\"Hits+FalseAlarms\", tocdB3@table$Hits, lwd=2, col=rgb(0,255,0, maxColorValue=255))\n",
    "#Band4\n",
    "lines(tocdB4@table$\"Hits+FalseAlarms\", tocdB4@table$Hits, lwd=2, col=rgb(255,0,0, maxColorValue=255))\n",
    "#Band5\n",
    "lines(tocdB5@table$\"Hits+FalseAlarms\", tocdB5@table$Hits, lwd=2, col=rgb(255,150,50, maxColorValue=255))\n",
    "#Band6\n",
    "lines(tocdB6@table$\"Hits+FalseAlarms\", tocdB6@table$Hits, lwd=2, col=rgb(150,150,150, maxColorValue=255))\n",
    "#Band7\n",
    "lines(tocdB7@table$\"Hits+FalseAlarms\", tocdB7@table$Hits, lwd=2, col=rgb(100,100,100, maxColorValue=255))\n",
    "#NDVI\n",
    "lines(tocdNDVI@table$\"Hits+FalseAlarms\", tocdNDVI@table$Hits, lty=\"dotted\", lwd=2, col=rgb(255,100,255, maxColorValue=255))\n",
    "#SAVI\n",
    "lines(tocdSAVI@table$\"Hits+FalseAlarms\", tocdSAVI@table$Hits, lty=\"dotted\", lwd=2, col=rgb(0,0,255, maxColorValue=255))\n",
    "#MSAVI\n",
    "lines(tocdMSAVI@table$\"Hits+FalseAlarms\", tocdMSAVI@table$Hits, lty=\"dotted\", lwd=2, col=rgb(100,250,0, maxColorValue=255))\n",
    "#NDMI\n",
    "lines(tocdNDMI@table$\"Hits+FalseAlarms\", tocdNDMI@table$Hits, lty=\"dotted\", lwd=2, col=rgb(200,0,0, maxColorValue=255))\n",
    "#TasseledCap Brightness\n",
    "lines(tocdTCB@table$\"Hits+FalseAlarms\", tocdTCB@table$Hits, lty=\"dotted\", lwd=2, col=rgb(255,150,50, maxColorValue=255))\n",
    "#TasseledCap Greeness\n",
    "lines(tocdTCG@table$\"Hits+FalseAlarms\", tocdTCG@table$Hits, lty=\"dotted\", lwd=2, col=rgb(10,150,0, maxColorValue=255))\n",
    "#TasseledCap Wetness\n",
    "lines(tocdTCW@table$\"Hits+FalseAlarms\", tocdTCW@table$Hits, lty=\"dotted\", lwd=2, col=rgb(100,100,100, maxColorValue=255))\n",
    "\n",
    "#Set area outside plot for legend\n",
    "par(xpd=NA)\n",
    "#Set legend. Must define names, line color, and line patterns. \n",
    "legend(\"topright\", inset=c(-0.25, 0.2), c(\"Hits+Misses\", \"Minimum\", \"Maximum\", \"Uniform\", \"Band1\", \"Band2\", \"Band3\", \"Band4\", \"Band5\", \"Band6\", \"Band7\", \"NDVI\", \"SAVI\", \"MSAVI\", \"NDMI\", \"TCBrightness\", \"TCGreeness\", \"TCWetness\"), \n",
    "       col = c(rgb(150,150,150, maxColorValue=255), rgb(50, 50,50, maxColorValue=255), rgb(50,50,50, maxColorValue=255), rgb(25,25,25, maxColorValue=255), rgb(255,0,255, maxColorValue=255), rgb(0,0,255, maxColorValue=255), rgb(0,255,0, maxColorValue=255), rgb(255,0,0, maxColorValue=255),rgb(255,150,50, maxColorValue=255), rgb(150,150,150, maxColorValue=255), rgb(100,100,100, maxColorValue=255), rgb(255, 100, 255, maxColorValue=255), rgb(0,0,255, maxColorValue=255), rgb(100,250,0, maxColorValue=255), rgb(200,0,0, maxColorValue=255), rgb(255,150,50, maxColorValue=255), rgb(10,150,0, maxColorValue=255), rgb(100,100,100, maxColorValue=255)),\n",
    "       lty = c(1, 4, 4, 3, 1, 1, 1, 1, 1, 1, 1, 3, 3, 3, 3, 3, 3, 3), merge = TRUE, bty=\"n\", lwd=c(2, 2, 2, 2, 2, 2, 2, 2, 2, 2, 2, 2, 2, 2, 2, 2, 2))\n",
    "\n",
    "#End image development. This will output the image.\n",
    "dev.off()\n"
   ]
  },
  {
   "cell_type": "code",
   "execution_count": 15,
   "metadata": {},
   "outputs": [],
   "source": [
    "%%R\n",
    "#Saving AUC values. I will use these to rank the bands by AUC value\n",
    "#For the first part, I am setting the AUC values to variables\n",
    "aucB1 <- tocdB1@AUC\n",
    "aucB2 <- tocdB2@AUC\n",
    "aucB3 <- tocdB3@AUC\n",
    "aucB4 <- tocdB4@AUC\n",
    "aucB5 <- tocdB5@AUC\n",
    "aucB6 <- tocdB6@AUC\n",
    "aucB7 <- tocdB7@AUC\n",
    "aucNDVI <- tocdNDVI@AUC\n",
    "aucSAVI <- tocdSAVI@AUC\n",
    "aucMSAVI <- tocdMSAVI@AUC\n",
    "aucNDMI <- tocdNDMI@AUC\n",
    "aucTCB <- tocdTCB@AUC\n",
    "aucTCG <- tocdTCG@AUC\n",
    "aucTCW <- tocdTCW@AUC\n",
    "#Here, I am concerned with curviture rather than the raw AUC. \n",
    "#Therefore, I subtracted the AUC from 1 for those below the \"uniform\" line.\n",
    "opB5 <- 1.0-aucB5\n",
    "opNDMI <- 1.0-aucNDMI\n",
    "opNDVI <- 1.0-aucNDVI\n",
    "opTCB <- 1.0-aucTCB\n",
    "opTCG <- 1.0-aucTCG\n",
    "opTCW <- 1.0-aucTCW\n"
   ]
  },
  {
   "cell_type": "code",
   "execution_count": 16,
   "metadata": {},
   "outputs": [
    {
     "name": "stdout",
     "output_type": "stream",
     "text": [
      "         AUC  Name rank\n",
      "12 0.5267322   TCB    1\n",
      "1  0.7115342 Band1    2\n",
      "3  0.7203319 Band3    3\n",
      "2  0.7824171 Band2    4\n",
      "6  0.8188207 Band6    5\n",
      "7  0.8415697 Band7    6\n",
      "4  0.8430859 Band4    7\n",
      "10 0.8431458 MSAVI    8\n",
      "5  0.8584792 Band5    9\n",
      "9  0.8650129  SAVI   10\n",
      "13 0.8701392   TCG   11\n",
      "8  0.8704007  NDVI   12\n",
      "14 0.8782514   TCW   13\n",
      "11 0.8879669  NDMI   14\n"
     ]
    }
   ],
   "source": [
    "%%R\n",
    "#Creating a dataframe for the input variables and their AUC values so I can rank the AUC values\n",
    "TOC_df <- data.frame(\"AUC\" = c(aucB1, aucB2, aucB3, aucB4, opB5, aucB6, aucB7, opNDVI, aucSAVI, aucMSAVI, opNDMI, opTCB, opTCG, opTCW), \"Name\" = c(\"Band1\",\"Band2\", \"Band3\", \"Band4\", \"Band5\", \"Band6\", \"Band7\", \"NDVI\", \"SAVI\", \"MSAVI\", \"NDMI\", \"TCB\", \"TCG\", \"TCW\")) \n",
    "\n",
    "#Create a new column\n",
    "TOC_df$rank <- NA\n",
    "#Order the AUC values\n",
    "order.AUC <- order(TOC_df$AUC)\n",
    "#Create a new dataframe which is order by AUC\n",
    "TOC_df1 <- TOC_df[order.AUC,]\n",
    "#create a new column called \"rank\"\n",
    "TOC_df1$rank <- rank(TOC_df1$AUC)\n",
    "#Display that new dataframe\n",
    "TOC_df1"
   ]
  },
  {
   "cell_type": "code",
   "execution_count": 24,
   "metadata": {},
   "outputs": [
    {
     "data": {
      "text/html": [
       "<div>\n",
       "<style scoped>\n",
       "    .dataframe tbody tr th:only-of-type {\n",
       "        vertical-align: middle;\n",
       "    }\n",
       "\n",
       "    .dataframe tbody tr th {\n",
       "        vertical-align: top;\n",
       "    }\n",
       "\n",
       "    .dataframe thead th {\n",
       "        text-align: right;\n",
       "    }\n",
       "</style>\n",
       "<table border=\"1\" class=\"dataframe\">\n",
       "  <thead>\n",
       "    <tr style=\"text-align: right;\">\n",
       "      <th></th>\n",
       "      <th>Band1</th>\n",
       "      <th>Band2</th>\n",
       "      <th>Band3</th>\n",
       "      <th>Band4</th>\n",
       "      <th>Band5</th>\n",
       "      <th>Band6</th>\n",
       "      <th>Band7</th>\n",
       "      <th>NDVI</th>\n",
       "      <th>SAVI</th>\n",
       "      <th>MSAVI</th>\n",
       "      <th>NDMI</th>\n",
       "      <th>TCBright</th>\n",
       "      <th>TCGreen</th>\n",
       "      <th>TCWet</th>\n",
       "    </tr>\n",
       "  </thead>\n",
       "  <tbody>\n",
       "    <tr>\n",
       "      <th>count</th>\n",
       "      <td>314346.000000</td>\n",
       "      <td>314346.000000</td>\n",
       "      <td>314346.000000</td>\n",
       "      <td>314346.000000</td>\n",
       "      <td>314346.000000</td>\n",
       "      <td>314346.000000</td>\n",
       "      <td>314346.000000</td>\n",
       "      <td>314346.000000</td>\n",
       "      <td>314346.000000</td>\n",
       "      <td>314346.000000</td>\n",
       "      <td>314346.000000</td>\n",
       "      <td>314346.000000</td>\n",
       "      <td>314346.000000</td>\n",
       "      <td>314346.000000</td>\n",
       "    </tr>\n",
       "    <tr>\n",
       "      <th>mean</th>\n",
       "      <td>280.726410</td>\n",
       "      <td>321.454926</td>\n",
       "      <td>593.226074</td>\n",
       "      <td>469.221313</td>\n",
       "      <td>3234.654297</td>\n",
       "      <td>2106.506592</td>\n",
       "      <td>995.356384</td>\n",
       "      <td>0.736361</td>\n",
       "      <td>-0.093409</td>\n",
       "      <td>469.350342</td>\n",
       "      <td>0.205840</td>\n",
       "      <td>3552.242432</td>\n",
       "      <td>1850.475342</td>\n",
       "      <td>-531.276611</td>\n",
       "    </tr>\n",
       "    <tr>\n",
       "      <th>std</th>\n",
       "      <td>66.292358</td>\n",
       "      <td>75.620300</td>\n",
       "      <td>87.154030</td>\n",
       "      <td>170.050888</td>\n",
       "      <td>610.123962</td>\n",
       "      <td>365.546204</td>\n",
       "      <td>277.775085</td>\n",
       "      <td>0.111237</td>\n",
       "      <td>0.080756</td>\n",
       "      <td>170.347382</td>\n",
       "      <td>0.141449</td>\n",
       "      <td>358.256836</td>\n",
       "      <td>543.599792</td>\n",
       "      <td>438.952850</td>\n",
       "    </tr>\n",
       "    <tr>\n",
       "      <th>min</th>\n",
       "      <td>-233.728867</td>\n",
       "      <td>-127.737000</td>\n",
       "      <td>158.667175</td>\n",
       "      <td>64.269463</td>\n",
       "      <td>390.712036</td>\n",
       "      <td>201.141235</td>\n",
       "      <td>86.119255</td>\n",
       "      <td>0.105750</td>\n",
       "      <td>-0.322104</td>\n",
       "      <td>63.328056</td>\n",
       "      <td>-0.261016</td>\n",
       "      <td>507.233978</td>\n",
       "      <td>-420.678284</td>\n",
       "      <td>-2678.927734</td>\n",
       "    </tr>\n",
       "    <tr>\n",
       "      <th>25%</th>\n",
       "      <td>247.086315</td>\n",
       "      <td>273.112946</td>\n",
       "      <td>540.393188</td>\n",
       "      <td>330.209801</td>\n",
       "      <td>2767.470581</td>\n",
       "      <td>1859.687225</td>\n",
       "      <td>770.226395</td>\n",
       "      <td>0.652025</td>\n",
       "      <td>-0.164763</td>\n",
       "      <td>330.051697</td>\n",
       "      <td>0.090501</td>\n",
       "      <td>3379.702148</td>\n",
       "      <td>1404.150116</td>\n",
       "      <td>-871.277496</td>\n",
       "    </tr>\n",
       "    <tr>\n",
       "      <th>50%</th>\n",
       "      <td>278.258163</td>\n",
       "      <td>310.741272</td>\n",
       "      <td>589.452728</td>\n",
       "      <td>435.782166</td>\n",
       "      <td>3188.582031</td>\n",
       "      <td>2046.850098</td>\n",
       "      <td>947.701019</td>\n",
       "      <td>0.757486</td>\n",
       "      <td>-0.101806</td>\n",
       "      <td>435.939850</td>\n",
       "      <td>0.223054</td>\n",
       "      <td>3570.254272</td>\n",
       "      <td>1825.220581</td>\n",
       "      <td>-474.923035</td>\n",
       "    </tr>\n",
       "    <tr>\n",
       "      <th>75%</th>\n",
       "      <td>313.988625</td>\n",
       "      <td>362.532845</td>\n",
       "      <td>637.861755</td>\n",
       "      <td>583.530350</td>\n",
       "      <td>3685.317383</td>\n",
       "      <td>2340.462524</td>\n",
       "      <td>1192.352600</td>\n",
       "      <td>0.832795</td>\n",
       "      <td>-0.029315</td>\n",
       "      <td>583.953888</td>\n",
       "      <td>0.328340</td>\n",
       "      <td>3746.509521</td>\n",
       "      <td>2275.661682</td>\n",
       "      <td>-159.591606</td>\n",
       "    </tr>\n",
       "    <tr>\n",
       "      <th>max</th>\n",
       "      <td>2436.635498</td>\n",
       "      <td>2740.566162</td>\n",
       "      <td>3286.294922</td>\n",
       "      <td>3575.005371</td>\n",
       "      <td>6195.914062</td>\n",
       "      <td>4451.320801</td>\n",
       "      <td>3543.995850</td>\n",
       "      <td>0.932338</td>\n",
       "      <td>0.112449</td>\n",
       "      <td>3575.585938</td>\n",
       "      <td>0.625845</td>\n",
       "      <td>8377.022461</td>\n",
       "      <td>4112.142090</td>\n",
       "      <td>494.586548</td>\n",
       "    </tr>\n",
       "  </tbody>\n",
       "</table>\n",
       "</div>"
      ],
      "text/plain": [
       "               Band1          Band2          Band3          Band4  \\\n",
       "count  314346.000000  314346.000000  314346.000000  314346.000000   \n",
       "mean      280.726410     321.454926     593.226074     469.221313   \n",
       "std        66.292358      75.620300      87.154030     170.050888   \n",
       "min      -233.728867    -127.737000     158.667175      64.269463   \n",
       "25%       247.086315     273.112946     540.393188     330.209801   \n",
       "50%       278.258163     310.741272     589.452728     435.782166   \n",
       "75%       313.988625     362.532845     637.861755     583.530350   \n",
       "max      2436.635498    2740.566162    3286.294922    3575.005371   \n",
       "\n",
       "               Band5          Band6          Band7           NDVI  \\\n",
       "count  314346.000000  314346.000000  314346.000000  314346.000000   \n",
       "mean     3234.654297    2106.506592     995.356384       0.736361   \n",
       "std       610.123962     365.546204     277.775085       0.111237   \n",
       "min       390.712036     201.141235      86.119255       0.105750   \n",
       "25%      2767.470581    1859.687225     770.226395       0.652025   \n",
       "50%      3188.582031    2046.850098     947.701019       0.757486   \n",
       "75%      3685.317383    2340.462524    1192.352600       0.832795   \n",
       "max      6195.914062    4451.320801    3543.995850       0.932338   \n",
       "\n",
       "                SAVI          MSAVI           NDMI       TCBright  \\\n",
       "count  314346.000000  314346.000000  314346.000000  314346.000000   \n",
       "mean       -0.093409     469.350342       0.205840    3552.242432   \n",
       "std         0.080756     170.347382       0.141449     358.256836   \n",
       "min        -0.322104      63.328056      -0.261016     507.233978   \n",
       "25%        -0.164763     330.051697       0.090501    3379.702148   \n",
       "50%        -0.101806     435.939850       0.223054    3570.254272   \n",
       "75%        -0.029315     583.953888       0.328340    3746.509521   \n",
       "max         0.112449    3575.585938       0.625845    8377.022461   \n",
       "\n",
       "             TCGreen          TCWet  \n",
       "count  314346.000000  314346.000000  \n",
       "mean     1850.475342    -531.276611  \n",
       "std       543.599792     438.952850  \n",
       "min      -420.678284   -2678.927734  \n",
       "25%      1404.150116    -871.277496  \n",
       "50%      1825.220581    -474.923035  \n",
       "75%      2275.661682    -159.591606  \n",
       "max      4112.142090     494.586548  "
      ]
     },
     "execution_count": 24,
     "metadata": {},
     "output_type": "execute_result"
    }
   ],
   "source": [
    "#Now I am back to using Python\n",
    "#I am calling the GM_Select dataframe from before which contain select rows. \n",
    "#Remove non-variable bands - Gypsy Moth Presence, Landcover Type, Cloudmask, and Study Area Mask. This will be the independent variables for the classification methods.\n",
    "Bands_only = GM_Select.drop(['GM_Presence', 'Landcover', 'Band8'], axis=1)\n",
    "#Checking to make sure it worked\n",
    "Bands_only.describe()"
   ]
  },
  {
   "cell_type": "markdown",
   "metadata": {},
   "source": [
    "# Partial Component Analysis"
   ]
  },
  {
   "cell_type": "code",
   "execution_count": 25,
   "metadata": {},
   "outputs": [],
   "source": [
    "#Standardizing independent variables for PCA\n",
    "import sklearn\n",
    "#Import scaler tool\n",
    "from sklearn.preprocessing import StandardScaler\n",
    "#Set the scaler object\n",
    "scaler = StandardScaler()\n",
    "#Standardize the bands\n",
    "scaler.fit(Bands_only)\n",
    "#Set transformed bands to a new variable\n",
    "scaled_data = scaler.transform(Bands_only)"
   ]
  },
  {
   "cell_type": "code",
   "execution_count": 26,
   "metadata": {},
   "outputs": [
    {
     "data": {
      "text/plain": [
       "(314346, 5)"
      ]
     },
     "execution_count": 26,
     "metadata": {},
     "output_type": "execute_result"
    }
   ],
   "source": [
    "#Now, I run PCA with the standardized indepenent variables\n",
    "from sklearn.decomposition import PCA\n",
    "#Here I designate that I want the first 5 components from PCA\n",
    "pca = PCA(n_components = 5)\n",
    "#I used the scaled data to fit PCA\n",
    "pca.fit(scaled_data)\n",
    "#Set outputs to new variable\n",
    "x_pca = pca.transform(scaled_data)\n",
    "x_pca.shape"
   ]
  },
  {
   "cell_type": "code",
   "execution_count": 27,
   "metadata": {},
   "outputs": [
    {
     "data": {
      "text/plain": [
       "array([[ 0.22313751,  0.26931015,  0.23981771,  0.30528194, -0.2111348 ,\n",
       "         0.27773997,  0.3017817 , -0.2973692 ,  0.29224783,  0.30530602,\n",
       "        -0.293027  ,  0.08849809, -0.25606152, -0.29642785],\n",
       "       [ 0.32253554,  0.23532435,  0.30124268,  0.03846264,  0.4397921 ,\n",
       "         0.1787298 ,  0.06256837,  0.1506214 , -0.15911174,  0.03807093,\n",
       "         0.16345836,  0.5651815 ,  0.33469066,  0.10710448],\n",
       "       [ 0.48519912,  0.40689954,  0.27051342,  0.03674737, -0.15901007,\n",
       "        -0.422971  , -0.22277534, -0.0114612 , -0.12845857,  0.03651247,\n",
       "         0.17882855, -0.35059175, -0.16525048,  0.26552007],\n",
       "       [-0.5953447 , -0.13572642,  0.6662162 ,  0.2221225 ,  0.01109898,\n",
       "        -0.17042714,  0.01229681, -0.02076272, -0.02788482,  0.22183552,\n",
       "         0.16477858,  0.01040674, -0.05820919,  0.15353313],\n",
       "       [-0.08451307,  0.10614251, -0.43799004,  0.31620255,  0.22729908,\n",
       "        -0.26578337, -0.06828974, -0.3081586 ,  0.44396788,  0.31615403,\n",
       "         0.20395228,  0.11719728,  0.13755935,  0.31068674]],\n",
       "      dtype=float32)"
      ]
     },
     "execution_count": 27,
     "metadata": {},
     "output_type": "execute_result"
    }
   ],
   "source": [
    "#Display PCA components - correlation for each variable\n",
    "pca.components_"
   ]
  },
  {
   "cell_type": "code",
   "execution_count": 28,
   "metadata": {},
   "outputs": [],
   "source": [
    "#Here I calculate the percent explained variance from the eigenvalues becuase it's easier to interpret. \n",
    "#I divided each eigen value by the sum of all the eigenvalues.\n",
    "C1 = pca.explained_variance_[0]/13.9446753*100\n",
    "C2 = pca.explained_variance_[1]/13.9446753*100\n",
    "C3 = pca.explained_variance_[2]/13.9446753*100\n",
    "C4 = pca.explained_variance_[3]/13.9446753*100\n",
    "C5 = pca.explained_variance_[4]/13.9446753*100"
   ]
  },
  {
   "cell_type": "code",
   "execution_count": 29,
   "metadata": {},
   "outputs": [
    {
     "name": "stdout",
     "output_type": "stream",
     "text": [
      "  Component # Eigenvalue Percent Variance\n",
      "0           1      10.42            74.74\n",
      "1           2       2.67            19.13\n",
      "2           3       0.53             3.78\n",
      "3           4       0.22             1.56\n",
      "4           5       0.11             0.78\n"
     ]
    }
   ],
   "source": [
    "#See percent variance explained for each component\n",
    "#I make a datframe of each compoent, it's eigenvalue, anfd it's percent explained. Here I set the data\n",
    "data ={'Component #':['1', '2', '3', '4', '5'], \n",
    "       'Eigenvalue':[format(pca.explained_variance_[0], '.2f'), format(pca.explained_variance_[1], '.2f'), format(pca.explained_variance_[2], '.2f'), format(pca.explained_variance_[3], '.2f'), format(pca.explained_variance_[4], '.2f')],\n",
    "       'Percent Variance':[format(C1, '.2f'), format(C2, '.2f'), format(C3, '.2f'), format(C4, '.2f'), format(C5, '.2f')]}\n",
    "#Then I bring the data into a dataframe and provide column names\n",
    "PCA_data = pd.DataFrame(data, columns = ['Component #', 'Eigenvalue', 'Percent Variance'])\n",
    "print(PCA_data)"
   ]
  },
  {
   "cell_type": "code",
   "execution_count": 33,
   "metadata": {},
   "outputs": [
    {
     "data": {
      "text/plain": [
       "<matplotlib.collections.PathCollection at 0x1fa06840c08>"
      ]
     },
     "execution_count": 33,
     "metadata": {},
     "output_type": "execute_result"
    },
    {
     "data": {
      "image/png": "[encoded data removed]",
      "text/plain": [
       "<Figure size 576x432 with 1 Axes>"
      ]
     },
     "metadata": {
      "needs_background": "light"
     },
     "output_type": "display_data"
    }
   ],
   "source": [
    "#Visualize PCA components\n",
    "#This cell allows me to call graph the components againts each other. This was more for my own visualization purposes.\n",
    "import matplotlib.pyplot as plt\n",
    "import seaborn as sns\n",
    "#Set figure size\n",
    "plt.figure(figsize = (8,6))\n",
    "#Here I graph component 1 vs Component 5\n",
    "plt.scatter(x_pca[:,0], x_pca[:,4], c=GM_Select['GM_Presence'], cmap='coolwarm')"
   ]
  },
  {
   "cell_type": "code",
   "execution_count": 34,
   "metadata": {},
   "outputs": [
    {
     "data": {
      "text/html": [
       "<div>\n",
       "<style scoped>\n",
       "    .dataframe tbody tr th:only-of-type {\n",
       "        vertical-align: middle;\n",
       "    }\n",
       "\n",
       "    .dataframe tbody tr th {\n",
       "        vertical-align: top;\n",
       "    }\n",
       "\n",
       "    .dataframe thead th {\n",
       "        text-align: right;\n",
       "    }\n",
       "</style>\n",
       "<table border=\"1\" class=\"dataframe\">\n",
       "  <thead>\n",
       "    <tr style=\"text-align: right;\">\n",
       "      <th></th>\n",
       "      <th>Band1</th>\n",
       "      <th>Band2</th>\n",
       "      <th>Band3</th>\n",
       "      <th>Band4</th>\n",
       "      <th>Band5</th>\n",
       "      <th>Band6</th>\n",
       "      <th>Band7</th>\n",
       "      <th>NDVI</th>\n",
       "      <th>SAVI</th>\n",
       "      <th>MSAVI</th>\n",
       "      <th>NDMI</th>\n",
       "      <th>TCBright</th>\n",
       "      <th>TCGreen</th>\n",
       "      <th>TCWet</th>\n",
       "    </tr>\n",
       "  </thead>\n",
       "  <tbody>\n",
       "    <tr>\n",
       "      <th>0</th>\n",
       "      <td>0.223138</td>\n",
       "      <td>0.269310</td>\n",
       "      <td>0.239818</td>\n",
       "      <td>0.305282</td>\n",
       "      <td>-0.211135</td>\n",
       "      <td>0.277740</td>\n",
       "      <td>0.301782</td>\n",
       "      <td>-0.297369</td>\n",
       "      <td>0.292248</td>\n",
       "      <td>0.305306</td>\n",
       "      <td>-0.293027</td>\n",
       "      <td>0.088498</td>\n",
       "      <td>-0.256062</td>\n",
       "      <td>-0.296428</td>\n",
       "    </tr>\n",
       "    <tr>\n",
       "      <th>1</th>\n",
       "      <td>0.322536</td>\n",
       "      <td>0.235324</td>\n",
       "      <td>0.301243</td>\n",
       "      <td>0.038463</td>\n",
       "      <td>0.439792</td>\n",
       "      <td>0.178730</td>\n",
       "      <td>0.062568</td>\n",
       "      <td>0.150621</td>\n",
       "      <td>-0.159112</td>\n",
       "      <td>0.038071</td>\n",
       "      <td>0.163458</td>\n",
       "      <td>0.565181</td>\n",
       "      <td>0.334691</td>\n",
       "      <td>0.107104</td>\n",
       "    </tr>\n",
       "    <tr>\n",
       "      <th>2</th>\n",
       "      <td>0.485199</td>\n",
       "      <td>0.406900</td>\n",
       "      <td>0.270513</td>\n",
       "      <td>0.036747</td>\n",
       "      <td>-0.159010</td>\n",
       "      <td>-0.422971</td>\n",
       "      <td>-0.222775</td>\n",
       "      <td>-0.011461</td>\n",
       "      <td>-0.128459</td>\n",
       "      <td>0.036512</td>\n",
       "      <td>0.178829</td>\n",
       "      <td>-0.350592</td>\n",
       "      <td>-0.165250</td>\n",
       "      <td>0.265520</td>\n",
       "    </tr>\n",
       "    <tr>\n",
       "      <th>3</th>\n",
       "      <td>-0.595345</td>\n",
       "      <td>-0.135726</td>\n",
       "      <td>0.666216</td>\n",
       "      <td>0.222123</td>\n",
       "      <td>0.011099</td>\n",
       "      <td>-0.170427</td>\n",
       "      <td>0.012297</td>\n",
       "      <td>-0.020763</td>\n",
       "      <td>-0.027885</td>\n",
       "      <td>0.221836</td>\n",
       "      <td>0.164779</td>\n",
       "      <td>0.010407</td>\n",
       "      <td>-0.058209</td>\n",
       "      <td>0.153533</td>\n",
       "    </tr>\n",
       "    <tr>\n",
       "      <th>4</th>\n",
       "      <td>-0.084513</td>\n",
       "      <td>0.106143</td>\n",
       "      <td>-0.437990</td>\n",
       "      <td>0.316203</td>\n",
       "      <td>0.227299</td>\n",
       "      <td>-0.265783</td>\n",
       "      <td>-0.068290</td>\n",
       "      <td>-0.308159</td>\n",
       "      <td>0.443968</td>\n",
       "      <td>0.316154</td>\n",
       "      <td>0.203952</td>\n",
       "      <td>0.117197</td>\n",
       "      <td>0.137559</td>\n",
       "      <td>0.310687</td>\n",
       "    </tr>\n",
       "  </tbody>\n",
       "</table>\n",
       "</div>"
      ],
      "text/plain": [
       "      Band1     Band2     Band3     Band4     Band5     Band6     Band7  \\\n",
       "0  0.223138  0.269310  0.239818  0.305282 -0.211135  0.277740  0.301782   \n",
       "1  0.322536  0.235324  0.301243  0.038463  0.439792  0.178730  0.062568   \n",
       "2  0.485199  0.406900  0.270513  0.036747 -0.159010 -0.422971 -0.222775   \n",
       "3 -0.595345 -0.135726  0.666216  0.222123  0.011099 -0.170427  0.012297   \n",
       "4 -0.084513  0.106143 -0.437990  0.316203  0.227299 -0.265783 -0.068290   \n",
       "\n",
       "       NDVI      SAVI     MSAVI      NDMI  TCBright   TCGreen     TCWet  \n",
       "0 -0.297369  0.292248  0.305306 -0.293027  0.088498 -0.256062 -0.296428  \n",
       "1  0.150621 -0.159112  0.038071  0.163458  0.565181  0.334691  0.107104  \n",
       "2 -0.011461 -0.128459  0.036512  0.178829 -0.350592 -0.165250  0.265520  \n",
       "3 -0.020763 -0.027885  0.221836  0.164779  0.010407 -0.058209  0.153533  \n",
       "4 -0.308159  0.443968  0.316154  0.203952  0.117197  0.137559  0.310687  "
      ]
     },
     "execution_count": 34,
     "metadata": {},
     "output_type": "execute_result"
    }
   ],
   "source": [
    "#Make a heat map of components\n",
    "#First I make dataframe of components\n",
    "PCA_comp = pd.DataFrame(pca.components_)\n",
    "#Then set column names\n",
    "PCA_comp.columns = ['Band1', 'Band2', 'Band3', 'Band4', 'Band5', 'Band6', 'Band7', 'NDVI', 'SAVI', 'MSAVI', 'NDMI', 'TCBright','TCGreen','TCWet']\n",
    "#Display dataframe\n",
    "PCA_comp"
   ]
  },
  {
   "cell_type": "code",
   "execution_count": 35,
   "metadata": {},
   "outputs": [
    {
     "data": {
      "image/png": "[encoded data removed]",
      "text/plain": [
       "<Figure size 432x288 with 2 Axes>"
      ]
     },
     "metadata": {
      "needs_background": "light"
     },
     "output_type": "display_data"
    }
   ],
   "source": [
    "#Now, I will convert the dataframe of correlations to a heatmap\n",
    "#Create plot object\n",
    "plt1 = plt.axes()\n",
    "#Create a heatmap from the component dataframe\n",
    "sns.heatmap(PCA_comp, cmap=\"RdBu_r\")\n",
    "#Set titles and labels\n",
    "plt1.set_title('Heat Map of PCA Components')\n",
    "plt1.set_ylabel('Component #')\n",
    "plt1.set_xlabel('Remote Sensing Indicators')\n",
    "plt1.set_yticklabels(['1','2','3','4','5'])\n",
    "#Ensure the labels don't get cutoff\n",
    "plt.tight_layout()\n",
    "#Save the figure s a jpeg\n",
    "plt.savefig('PCA_Heat.jpeg')"
   ]
  },
  {
   "cell_type": "markdown",
   "metadata": {},
   "source": [
    "# Logistic Regression"
   ]
  },
  {
   "cell_type": "markdown",
   "metadata": {},
   "source": [
    "### 1. Logistic Model with All Independent Variables"
   ]
  },
  {
   "cell_type": "code",
   "execution_count": 37,
   "metadata": {},
   "outputs": [],
   "source": [
    "#Set x & y variables for Logistic Regression\n",
    "#The first set of x-variables includes all of the independent variables\n",
    "x = GM_Select.drop(['GM_Presence', 'Landcover', 'Band8'], axis=1)\n",
    "#The second set ot x-variables includes the select 4-variables (NDVI, NDMI, TCGreen, & TCWet)\n",
    "x2 = GM_Select.drop(['GM_Presence', 'Landcover', 'Band8', 'Band1', 'Band2', 'Band3', 'Band4', 'Band5', 'Band6', 'Band7', 'SAVI', 'MSAVI', 'TCBright'], axis=1)\n",
    "#Set dependent variable to Gypsy Moth presence\n",
    "y = GM_Select['GM_Presence']"
   ]
  },
  {
   "cell_type": "code",
   "execution_count": 38,
   "metadata": {},
   "outputs": [
    {
     "name": "stdout",
     "output_type": "stream",
     "text": [
      "        Landcover  GM_Presence       Band1       Band2        Band3  \\\n",
      "602          43.0          0.0  303.164825  415.967316   789.300415   \n",
      "603          43.0          0.0  338.623688  449.160767   738.687439   \n",
      "604          43.0          0.0  299.536682  416.954041   733.375916   \n",
      "605          41.0          0.0  332.190002  444.117798   854.510742   \n",
      "606          41.0          0.0  523.816040  634.345642  1083.464844   \n",
      "...           ...          ...         ...         ...          ...   \n",
      "501084       43.0          0.0  176.760757  223.303848   522.896484   \n",
      "501085       43.0          0.0  185.020050  227.481110   514.465515   \n",
      "501086       41.0          0.0  193.221130  230.548569   507.148224   \n",
      "501087       43.0          0.0  198.774643  231.799988   515.386780   \n",
      "501088       43.0          0.0  208.610306  234.628723   504.191711   \n",
      "\n",
      "             Band4        Band5        Band6        Band7       Band8  \\\n",
      "602     596.334839  4376.997559  2080.958740  1023.578857  330.081268   \n",
      "603     585.709717  3793.870117  1848.838379   977.996216  354.348724   \n",
      "604     574.754944  3553.045410  1864.903320  1062.451538  379.142090   \n",
      "605     664.100464  3829.521729  2126.562256  1236.087891  386.000000   \n",
      "606     874.682068  4241.624023  2482.150635  1445.479980  386.000000   \n",
      "...            ...          ...          ...          ...         ...   \n",
      "501084  323.037628  3439.007812  1702.188354   684.238342  322.000000   \n",
      "501085  309.893646  3566.219971  1743.382202   690.474548  322.000000   \n",
      "501086  306.898224  3644.327393  1776.658325   703.999023  322.000000   \n",
      "501087  303.810822  3707.614014  1802.756104   718.708740  322.000000   \n",
      "501088  280.949738  3869.379883  1783.719849   707.966370  322.000000   \n",
      "\n",
      "            NDVI      SAVI       MSAVI      NDMI     TCBright      TCGreen  \\\n",
      "602     0.760187 -0.092807  596.511597  0.355536  4327.562500  2530.895996   \n",
      "603     0.732527 -0.076976  585.948792  0.344698  3865.544189  2105.692383   \n",
      "604     0.721520 -0.080808  574.979248  0.311583  3738.257324  1934.737671   \n",
      "605     0.704425 -0.083562  664.314026  0.285919  4142.747070  2040.751465   \n",
      "606     0.658081 -0.071064  874.943542  0.261679  4814.395508  2106.479248   \n",
      "...          ...       ...         ...       ...          ...          ...   \n",
      "501084  0.828265 -0.157412  322.920502  0.337824  3284.512939  2145.609131   \n",
      "501085  0.840101 -0.165339  309.735260  0.343310  3370.528320  2248.052734   \n",
      "501086  0.844657 -0.163895  306.747467  0.344526  3431.169434  2307.582275   \n",
      "501087  0.848527 -0.172076  303.616364  0.345686  3483.828125  2352.429688   \n",
      "501088  0.864613 -0.189435  280.657654  0.368941  3549.636963  2484.788818   \n",
      "\n",
      "             TCWet  LR_All_Pred  \n",
      "602     -42.066620          2.0  \n",
      "603     -63.215668          0.0  \n",
      "604    -204.712006          0.0  \n",
      "605    -318.563477          0.0  \n",
      "606    -383.644226          2.0  \n",
      "...            ...          ...  \n",
      "501084 -108.759949          2.0  \n",
      "501085 -102.926880          2.0  \n",
      "501086 -108.127716          2.0  \n",
      "501087 -111.044952          2.0  \n",
      "501088  -46.772491          2.0  \n",
      "\n",
      "[314346 rows x 18 columns]\n"
     ]
    }
   ],
   "source": [
    "#Split data for training and testin\n",
    "from sklearn.model_selection import train_test_split\n",
    "#Here we split the data - using all the independent variables. 70% of the data is used for training, 30% for training\n",
    "x_train, x_test, y_train, y_test = train_test_split(x, y, test_size = 0.3)\n",
    "\n",
    "#Here I create the first logistic regression model\n",
    "from sklearn.linear_model import LogisticRegression\n",
    "logModel = LogisticRegression()\n",
    "#Fit the model with the training data\n",
    "fit_modelLR = logModel.fit(x_train, y_train)\n",
    "\n",
    "#Connect predictions back to dataframe\n",
    "#Here, I create a dataframe of the logisitic model predictions. I set the column index to that from the GM_Select.\n",
    "#This index will connect back to to large dataframe as well. \n",
    "df = pd.DataFrame(logModel.predict(x_test), columns=['LR_All_Pred'], index = x_test.index.copy())\n",
    "#I merge the predictions to the GM_Select dataframe\n",
    "df_out = pd.merge(GM_Select, df, how = 'left', left_index = True, right_index = True)\n",
    "#I fill null values in the prediction column to 2 - these are training data\n",
    "df_out.fillna(value=2, inplace=True)\n",
    "print (df_out)"
   ]
  },
  {
   "cell_type": "code",
   "execution_count": 40,
   "metadata": {},
   "outputs": [],
   "source": [
    "#I get coefficents and intercept from LR model. This will be used for TOC Curves comparing the classification outcomes.\n",
    "\n",
    "#Create a nw column with the calculations\n",
    "df_out['LR_All'] = ((logModel.coef_[0][0]*df_out['Band1'])+\n",
    "                     (logModel.coef_[0][1]*df_out['Band2'])+\n",
    "                     (logModel.coef_[0][2]*df_out['Band3'])+\n",
    "                     (logModel.coef_[0][3]*df_out['Band4'])+\n",
    "                     (logModel.coef_[0][4]*df_out['Band5'])+\n",
    "                     (logModel.coef_[0][5]*df_out['Band6'])+\n",
    "                     (logModel.coef_[0][6]*df_out['Band7'])+\n",
    "                     (logModel.coef_[0][7]*df_out['NDVI'])+\n",
    "                     (logModel.coef_[0][8]*df_out['SAVI'])+\n",
    "                     (logModel.coef_[0][9]*df_out['MSAVI'])+\n",
    "                     (logModel.coef_[0][10]*df_out['NDMI'])+\n",
    "                     (logModel.coef_[0][11]*df_out['TCBright'])+\n",
    "                     (logModel.coef_[0][12]*df_out['TCGreen'])+\n",
    "                     (logModel.coef_[0][13]*df_out['TCWet'])+logModel.intercept_)"
   ]
  },
  {
   "cell_type": "markdown",
   "metadata": {},
   "source": [
    "### 2. Logistic Regression Model with Select Independent Variable"
   ]
  },
  {
   "cell_type": "code",
   "execution_count": 41,
   "metadata": {},
   "outputs": [
    {
     "name": "stdout",
     "output_type": "stream",
     "text": [
      "        LR_Select_Pred\n",
      "329055             1.0\n",
      "315199             0.0\n",
      "416572             0.0\n",
      "313617             1.0\n",
      "147003             0.0\n",
      "...                ...\n",
      "322412             0.0\n",
      "268183             0.0\n",
      "17089              1.0\n",
      "105296             0.0\n",
      "265686             0.0\n",
      "\n",
      "[94304 rows x 1 columns]\n",
      "        Landcover  GM_Presence       Band1       Band2        Band3  \\\n",
      "602          43.0          0.0  303.164825  415.967316   789.300415   \n",
      "603          43.0          0.0  338.623688  449.160767   738.687439   \n",
      "604          43.0          0.0  299.536682  416.954041   733.375916   \n",
      "605          41.0          0.0  332.190002  444.117798   854.510742   \n",
      "606          41.0          0.0  523.816040  634.345642  1083.464844   \n",
      "...           ...          ...         ...         ...          ...   \n",
      "501084       43.0          0.0  176.760757  223.303848   522.896484   \n",
      "501085       43.0          0.0  185.020050  227.481110   514.465515   \n",
      "501086       41.0          0.0  193.221130  230.548569   507.148224   \n",
      "501087       43.0          0.0  198.774643  231.799988   515.386780   \n",
      "501088       43.0          0.0  208.610306  234.628723   504.191711   \n",
      "\n",
      "             Band4        Band5        Band6        Band7       Band8  \\\n",
      "602     596.334839  4376.997559  2080.958740  1023.578857  330.081268   \n",
      "603     585.709717  3793.870117  1848.838379   977.996216  354.348724   \n",
      "604     574.754944  3553.045410  1864.903320  1062.451538  379.142090   \n",
      "605     664.100464  3829.521729  2126.562256  1236.087891  386.000000   \n",
      "606     874.682068  4241.624023  2482.150635  1445.479980  386.000000   \n",
      "...            ...          ...          ...          ...         ...   \n",
      "501084  323.037628  3439.007812  1702.188354   684.238342  322.000000   \n",
      "501085  309.893646  3566.219971  1743.382202   690.474548  322.000000   \n",
      "501086  306.898224  3644.327393  1776.658325   703.999023  322.000000   \n",
      "501087  303.810822  3707.614014  1802.756104   718.708740  322.000000   \n",
      "501088  280.949738  3869.379883  1783.719849   707.966370  322.000000   \n",
      "\n",
      "            NDVI      SAVI       MSAVI      NDMI     TCBright      TCGreen  \\\n",
      "602     0.760187 -0.092807  596.511597  0.355536  4327.562500  2530.895996   \n",
      "603     0.732527 -0.076976  585.948792  0.344698  3865.544189  2105.692383   \n",
      "604     0.721520 -0.080808  574.979248  0.311583  3738.257324  1934.737671   \n",
      "605     0.704425 -0.083562  664.314026  0.285919  4142.747070  2040.751465   \n",
      "606     0.658081 -0.071064  874.943542  0.261679  4814.395508  2106.479248   \n",
      "...          ...       ...         ...       ...          ...          ...   \n",
      "501084  0.828265 -0.157412  322.920502  0.337824  3284.512939  2145.609131   \n",
      "501085  0.840101 -0.165339  309.735260  0.343310  3370.528320  2248.052734   \n",
      "501086  0.844657 -0.163895  306.747467  0.344526  3431.169434  2307.582275   \n",
      "501087  0.848527 -0.172076  303.616364  0.345686  3483.828125  2352.429688   \n",
      "501088  0.864613 -0.189435  280.657654  0.368941  3549.636963  2484.788818   \n",
      "\n",
      "             TCWet  LR_All_Pred    LR_All  LR_Select_Pred  \n",
      "602     -42.066620          2.0 -5.319241             2.0  \n",
      "603     -63.215668          0.0 -4.735403             0.0  \n",
      "604    -204.712006          0.0 -4.340579             1.0  \n",
      "605    -318.563477          0.0 -4.470018             0.0  \n",
      "606    -383.644226          2.0 -4.297808             2.0  \n",
      "...            ...          ...       ...             ...  \n",
      "501084 -108.759949          2.0 -2.930880             2.0  \n",
      "501085 -102.926880          2.0 -3.118551             2.0  \n",
      "501086 -108.127716          2.0 -3.295916             2.0  \n",
      "501087 -111.044952          2.0 -3.411239             2.0  \n",
      "501088  -46.772491          2.0 -4.083793             2.0  \n",
      "\n",
      "[314346 rows x 20 columns]\n"
     ]
    }
   ],
   "source": [
    "#Split data for training and testing. In this case, I set the select variables as the independent variables\n",
    "x2_train, x2_test, y2_train, y2_test = train_test_split(x2, y, test_size = 0.3)\n",
    "\n",
    "#Create the second model\n",
    "logModel2= LogisticRegression()\n",
    "#Fit the second model using the new training data\n",
    "fit_modelLR = logModel2.fit(x2_train, y2_train)\n",
    "\n",
    "#Connect new predictions to a new dataframe\n",
    "#Dataframe of 2nd LR Model\n",
    "df = pd.DataFrame(logModel2.predict(x2_test), columns=['LR_Select_Pred'], index = x_test.index.copy())\n",
    "print(df)\n",
    "#Merge the dataframe from LR 1 to the new predictions.\n",
    "df_out2 = pd.merge(df_out, df, how = 'left', left_index = True, right_index = True)\n",
    "#Again, fill training data null values as 2\n",
    "df_out2.fillna(value=2, inplace=True)\n",
    "print (df_out2)"
   ]
  },
  {
   "cell_type": "code",
   "execution_count": 42,
   "metadata": {},
   "outputs": [
    {
     "name": "stdout",
     "output_type": "stream",
     "text": [
      "        Landcover  GM_Presence       Band1       Band2        Band3  \\\n",
      "602          43.0          0.0  303.164825  415.967316   789.300415   \n",
      "603          43.0          0.0  338.623688  449.160767   738.687439   \n",
      "604          43.0          0.0  299.536682  416.954041   733.375916   \n",
      "605          41.0          0.0  332.190002  444.117798   854.510742   \n",
      "606          41.0          0.0  523.816040  634.345642  1083.464844   \n",
      "...           ...          ...         ...         ...          ...   \n",
      "501084       43.0          0.0  176.760757  223.303848   522.896484   \n",
      "501085       43.0          0.0  185.020050  227.481110   514.465515   \n",
      "501086       41.0          0.0  193.221130  230.548569   507.148224   \n",
      "501087       43.0          0.0  198.774643  231.799988   515.386780   \n",
      "501088       43.0          0.0  208.610306  234.628723   504.191711   \n",
      "\n",
      "             Band4        Band5        Band6        Band7       Band8  ...  \\\n",
      "602     596.334839  4376.997559  2080.958740  1023.578857  330.081268  ...   \n",
      "603     585.709717  3793.870117  1848.838379   977.996216  354.348724  ...   \n",
      "604     574.754944  3553.045410  1864.903320  1062.451538  379.142090  ...   \n",
      "605     664.100464  3829.521729  2126.562256  1236.087891  386.000000  ...   \n",
      "606     874.682068  4241.624023  2482.150635  1445.479980  386.000000  ...   \n",
      "...            ...          ...          ...          ...         ...  ...   \n",
      "501084  323.037628  3439.007812  1702.188354   684.238342  322.000000  ...   \n",
      "501085  309.893646  3566.219971  1743.382202   690.474548  322.000000  ...   \n",
      "501086  306.898224  3644.327393  1776.658325   703.999023  322.000000  ...   \n",
      "501087  303.810822  3707.614014  1802.756104   718.708740  322.000000  ...   \n",
      "501088  280.949738  3869.379883  1783.719849   707.966370  322.000000  ...   \n",
      "\n",
      "            SAVI       MSAVI      NDMI     TCBright      TCGreen       TCWet  \\\n",
      "602    -0.092807  596.511597  0.355536  4327.562500  2530.895996  -42.066620   \n",
      "603    -0.076976  585.948792  0.344698  3865.544189  2105.692383  -63.215668   \n",
      "604    -0.080808  574.979248  0.311583  3738.257324  1934.737671 -204.712006   \n",
      "605    -0.083562  664.314026  0.285919  4142.747070  2040.751465 -318.563477   \n",
      "606    -0.071064  874.943542  0.261679  4814.395508  2106.479248 -383.644226   \n",
      "...          ...         ...       ...          ...          ...         ...   \n",
      "501084 -0.157412  322.920502  0.337824  3284.512939  2145.609131 -108.759949   \n",
      "501085 -0.165339  309.735260  0.343310  3370.528320  2248.052734 -102.926880   \n",
      "501086 -0.163895  306.747467  0.344526  3431.169434  2307.582275 -108.127716   \n",
      "501087 -0.172076  303.616364  0.345686  3483.828125  2352.429688 -111.044952   \n",
      "501088 -0.189435  280.657654  0.368941  3549.636963  2484.788818  -46.772491   \n",
      "\n",
      "        LR_All_Pred    LR_All  LR_Select_Pred  LR_Select  \n",
      "602             2.0 -5.319241             2.0  -3.663398  \n",
      "603             0.0 -4.735403             0.0  -2.968417  \n",
      "604             0.0 -4.340579             1.0  -2.314234  \n",
      "605             0.0 -4.470018             0.0  -2.151829  \n",
      "606             2.0 -4.297808             2.0  -2.066655  \n",
      "...             ...       ...             ...        ...  \n",
      "501084          2.0 -2.930880             2.0  -2.899725  \n",
      "501085          2.0 -3.118551             2.0  -3.069245  \n",
      "501086          2.0 -3.295916             2.0  -3.143544  \n",
      "501087          2.0 -3.411239             2.0  -3.202340  \n",
      "501088          2.0 -4.083793             2.0  -3.581239  \n",
      "\n",
      "[314346 rows x 21 columns]\n"
     ]
    }
   ],
   "source": [
    "#Get coefficents and intercept from second LR model.\n",
    "df_out2['LR_Select'] = (logModel2.coef_[0][0]*df_out2['NDVI'])+(logModel2.coef_[0][1]*df_out2['NDMI'])+(logModel2.coef_[0][2]*df_out2['TCGreen'])+(logModel2.coef_[0][3]*df_out2['TCWet']+logModel2.intercept_)\n",
    "\n",
    "print (df_out2)"
   ]
  },
  {
   "cell_type": "code",
   "execution_count": 49,
   "metadata": {},
   "outputs": [],
   "source": [
    "#This functin creates two coonfusion matrices. ONe not-normlaized and one normalized. It outputs the normalized one.\n",
    "def confusion_matrix(mod, x, y, name, color):\n",
    "    from sklearn.metrics import plot_confusion_matrix\n",
    "    #Here 0 = Foliated, 1 = Foliated\n",
    "    labels = ['0','1']\n",
    "    #PLot titles\n",
    "    titles_options = [(\"Confusion matrix, without normalization\", None),\n",
    "                      (\"Normalized confusion matrix\", 'true')]\n",
    "    for title, normalize in titles_options:\n",
    "        disp = plot_confusion_matrix(mod, x, y,\n",
    "                                     display_labels= labels,\n",
    "                                     cmap= color,\n",
    "                                     normalize=normalize)\n",
    "        disp.ax_.set_title(title)\n",
    "\n",
    "        print(title)\n",
    "        print(disp.confusion_matrix)\n",
    "        plt.savefig(name)"
   ]
  },
  {
   "cell_type": "code",
   "execution_count": 50,
   "metadata": {},
   "outputs": [
    {
     "name": "stdout",
     "output_type": "stream",
     "text": [
      "Confusion matrix, without normalization\n",
      "[[56637  7267]\n",
      " [ 8607 21793]]\n",
      "Normalized confusion matrix\n",
      "[[0.88628255 0.11371745]\n",
      " [0.283125   0.716875  ]]\n"
     ]
    },
    {
     "data": {
      "image/png": "[encoded data removed]",
      "text/plain": [
       "<Figure size 432x288 with 2 Axes>"
      ]
     },
     "metadata": {
      "needs_background": "light"
     },
     "output_type": "display_data"
    },
    {
     "data": {
      "image/png": "[encoded data removed]",
      "text/plain": [
       "<Figure size 432x288 with 2 Axes>"
      ]
     },
     "metadata": {
      "needs_background": "light"
     },
     "output_type": "display_data"
    }
   ],
   "source": [
    "#Create confusion matrix for Logistic Model - All Variables\n",
    "confusion_matrix(logModel, x_test, y_test, 'Confusion_Mat_LR_All.png', plt.cm.Blues)"
   ]
  },
  {
   "cell_type": "code",
   "execution_count": 51,
   "metadata": {},
   "outputs": [
    {
     "name": "stdout",
     "output_type": "stream",
     "text": [
      "Confusion matrix, without normalization\n",
      "[[56522  7218]\n",
      " [ 9792 20772]]\n",
      "Normalized confusion matrix\n",
      "[[0.88675871 0.11324129]\n",
      " [0.32037691 0.67962309]]\n"
     ]
    },
    {
     "data": {
      "image/png": "[encoded data removed]",
      "text/plain": [
       "<Figure size 432x288 with 2 Axes>"
      ]
     },
     "metadata": {
      "needs_background": "light"
     },
     "output_type": "display_data"
    },
    {
     "data": {
      "image/png": "[encoded data removed]",
      "text/plain": [
       "<Figure size 432x288 with 2 Axes>"
      ]
     },
     "metadata": {
      "needs_background": "light"
     },
     "output_type": "display_data"
    }
   ],
   "source": [
    "#Create confusion matrix for Logistic Model - Select Variables\n",
    "confusion_matrix(logModel2, x2_test, y2_test, 'Confusion_Mat_LR_Select.png', plt.cm.Blues)"
   ]
  },
  {
   "cell_type": "markdown",
   "metadata": {},
   "source": [
    "# Discriminant Analysis"
   ]
  },
  {
   "cell_type": "markdown",
   "metadata": {},
   "source": [
    "### 1. Discriminant Analysis with All Variables"
   ]
  },
  {
   "cell_type": "code",
   "execution_count": 52,
   "metadata": {},
   "outputs": [
    {
     "name": "stdout",
     "output_type": "stream",
     "text": [
      "        DA_All_Pred\n",
      "329055          0.0\n",
      "315199          1.0\n",
      "416572          0.0\n",
      "313617          0.0\n",
      "147003          0.0\n",
      "...             ...\n",
      "322412          1.0\n",
      "268183          0.0\n",
      "17089           0.0\n",
      "105296          1.0\n",
      "265686          1.0\n",
      "\n",
      "[94304 rows x 1 columns]\n",
      "        Landcover  GM_Presence       Band1       Band2        Band3  \\\n",
      "602          43.0          0.0  303.164825  415.967316   789.300415   \n",
      "603          43.0          0.0  338.623688  449.160767   738.687439   \n",
      "604          43.0          0.0  299.536682  416.954041   733.375916   \n",
      "605          41.0          0.0  332.190002  444.117798   854.510742   \n",
      "606          41.0          0.0  523.816040  634.345642  1083.464844   \n",
      "...           ...          ...         ...         ...          ...   \n",
      "501084       43.0          0.0  176.760757  223.303848   522.896484   \n",
      "501085       43.0          0.0  185.020050  227.481110   514.465515   \n",
      "501086       41.0          0.0  193.221130  230.548569   507.148224   \n",
      "501087       43.0          0.0  198.774643  231.799988   515.386780   \n",
      "501088       43.0          0.0  208.610306  234.628723   504.191711   \n",
      "\n",
      "             Band4        Band5        Band6        Band7       Band8  ...  \\\n",
      "602     596.334839  4376.997559  2080.958740  1023.578857  330.081268  ...   \n",
      "603     585.709717  3793.870117  1848.838379   977.996216  354.348724  ...   \n",
      "604     574.754944  3553.045410  1864.903320  1062.451538  379.142090  ...   \n",
      "605     664.100464  3829.521729  2126.562256  1236.087891  386.000000  ...   \n",
      "606     874.682068  4241.624023  2482.150635  1445.479980  386.000000  ...   \n",
      "...            ...          ...          ...          ...         ...  ...   \n",
      "501084  323.037628  3439.007812  1702.188354   684.238342  322.000000  ...   \n",
      "501085  309.893646  3566.219971  1743.382202   690.474548  322.000000  ...   \n",
      "501086  306.898224  3644.327393  1776.658325   703.999023  322.000000  ...   \n",
      "501087  303.810822  3707.614014  1802.756104   718.708740  322.000000  ...   \n",
      "501088  280.949738  3869.379883  1783.719849   707.966370  322.000000  ...   \n",
      "\n",
      "            NDMI     TCBright      TCGreen       TCWet  LR_All_Pred    LR_All  \\\n",
      "602     0.355536  4327.562500  2530.895996  -42.066620          2.0 -5.319241   \n",
      "603     0.344698  3865.544189  2105.692383  -63.215668          0.0 -4.735403   \n",
      "604     0.311583  3738.257324  1934.737671 -204.712006          0.0 -4.340579   \n",
      "605     0.285919  4142.747070  2040.751465 -318.563477          0.0 -4.470018   \n",
      "606     0.261679  4814.395508  2106.479248 -383.644226          2.0 -4.297808   \n",
      "...          ...          ...          ...         ...          ...       ...   \n",
      "501084  0.337824  3284.512939  2145.609131 -108.759949          2.0 -2.930880   \n",
      "501085  0.343310  3370.528320  2248.052734 -102.926880          2.0 -3.118551   \n",
      "501086  0.344526  3431.169434  2307.582275 -108.127716          2.0 -3.295916   \n",
      "501087  0.345686  3483.828125  2352.429688 -111.044952          2.0 -3.411239   \n",
      "501088  0.368941  3549.636963  2484.788818  -46.772491          2.0 -4.083793   \n",
      "\n",
      "        LR_Select_Pred  LR_Select  DA_All_Pred    DA_All  \n",
      "602                2.0  -3.663398          2.0 -6.195808  \n",
      "603                0.0  -2.968417          0.0 -6.267581  \n",
      "604                1.0  -2.314234          0.0 -6.079730  \n",
      "605                0.0  -2.151829          0.0 -6.197827  \n",
      "606                2.0  -2.066655          2.0 -6.277567  \n",
      "...                ...        ...          ...       ...  \n",
      "501084             2.0  -2.899725          2.0 -3.437162  \n",
      "501085             2.0  -3.069245          2.0 -3.390768  \n",
      "501086             2.0  -3.143544          2.0 -3.409917  \n",
      "501087             2.0  -3.202340          2.0 -3.437177  \n",
      "501088             2.0  -3.581239          2.0 -3.817618  \n",
      "\n",
      "[314346 rows x 23 columns]\n"
     ]
    }
   ],
   "source": [
    "#import Discriminant Analysis\n",
    "from sklearn.discriminant_analysis import LinearDiscriminantAnalysis\n",
    "#Split data for training and testing. Again, 70% Training and 30% Testing.\n",
    "da_x_train, da_x_test, da_y_train, da_y_test = train_test_split(x, y, test_size = 0.3)\n",
    "\n",
    "#Create model obejct\n",
    "daModel = LinearDiscriminantAnalysis()\n",
    "#Fit model with training data\n",
    "fit_modelDA = daModel.fit(da_x_train, da_y_train)\n",
    "\n",
    "#Connect predictions to dataframe with Logistic Regression results\n",
    "#Create dataframe of Discriminant Analysis prediction results\n",
    "df = pd.DataFrame(daModel.predict(da_x_test), columns=['DA_All_Pred'], index = x_test.index.copy())\n",
    "print(df)\n",
    "#Merge with dataframe produced after the second DA Model\n",
    "df_da = pd.merge(df_out2, df, how = 'left', left_index = True, right_index = True)\n",
    "#Replace null values with 2 because that indicates training data.\n",
    "df_da.fillna(value=2, inplace=True)\n",
    "#Finally, add new columns with calculated DA linear equation\n",
    "df_da['DA_All'] = ((daModel.coef_[0][0]*df_da['Band1'])+(daModel.coef_[0][1]*df_da['Band2'])+(daModel.coef_[0][2]*df_da['Band3'])+(daModel.coef_[0][3]*df_da['Band4'])+(daModel.coef_[0][4]*df_da['Band5'])+(daModel.coef_[0][5]*df_da['Band6'])+(daModel.coef_[0][6]*df_da['Band7'])+(daModel.coef_[0][7]*df_da['NDVI'])+(daModel.coef_[0][8]*df_da['SAVI'])+(daModel.coef_[0][9]*df_da['MSAVI'])+(daModel.coef_[0][10]*df_da['NDMI'])+(daModel.coef_[0][11]*df_da['TCBright'])+(daModel.coef_[0][12]*df_da['TCGreen'])+(daModel.coef_[0][13]*df_da['TCWet']+daModel.intercept_))\n",
    "\n",
    "print (df_da)"
   ]
  },
  {
   "cell_type": "markdown",
   "metadata": {},
   "source": [
    "### 2. Discriminant Analysis with Select Independent Variables"
   ]
  },
  {
   "cell_type": "code",
   "execution_count": 46,
   "metadata": {},
   "outputs": [],
   "source": [
    "#The final model I am running is Discriminant Analysis with select variables\n",
    "#Split data for training and testin\n",
    "da_x2_train, da_x2_test, da_y2_train, da_y2_test = train_test_split(x2, y, test_size = 0.3)\n",
    "\n",
    "#Create model object\n",
    "daModel2 = LinearDiscriminantAnalysis()\n",
    "#\n",
    "fit_modelDA = daModel2.fit(da_x2_train, da_y2_train)\n",
    "\n",
    "#Connect predictions to data frame produced with first LR model\n",
    "df = pd.DataFrame(daModel2.predict(da_x2_test), columns=['DA_Select_Pred'], index = x_test.index.copy())\n",
    "GM_Full_Result = pd.merge(df_da, df, how = 'left', left_index = True, right_index = True)\n",
    "GM_Full_Result.fillna(value=2, inplace=True)\n",
    "\n",
    "#Finally, add new columns with second calculated DA linear equation\n",
    "GM_Full_Result['DA_Select'] = ((daModel2.coef_[0][0]*GM_Full_Result['NDVI'])+(daModel2.coef_[0][1]*GM_Full_Result['NDMI'])+(daModel2.coef_[0][2]*GM_Full_Result['TCGreen'])+(daModel2.coef_[0][3]*GM_Full_Result['TCWet']+daModel2.intercept_))\n",
    "\n",
    "#Again, I exported this dataframe to a CSV to open it in R. \n",
    "GM_Full_Result.to_csv(\"C:\\\\Users\\\\Emily\\\\Documents\\\\Summer_2020\\\\Py_DataScience_and_MachineLearning\\\\original\\\\Gypsy_Moth\\\\Landsat8Imagery\\\\GM_Full_Result.csv\")"
   ]
  },
  {
   "cell_type": "code",
   "execution_count": 53,
   "metadata": {},
   "outputs": [
    {
     "name": "stdout",
     "output_type": "stream",
     "text": [
      "Confusion matrix, without normalization\n",
      "[[57144  6652]\n",
      " [ 9109 21399]]\n",
      "Normalized confusion matrix\n",
      "[[0.89573014 0.10426986]\n",
      " [0.29857742 0.70142258]]\n"
     ]
    },
    {
     "data": {
      "image/png": "[encoded data removed]",
      "text/plain": [
       "<Figure size 432x288 with 2 Axes>"
      ]
     },
     "metadata": {
      "needs_background": "light"
     },
     "output_type": "display_data"
    },
    {
     "data": {
      "image/png": "[encoded data removed]",
      "text/plain": [
       "<Figure size 432x288 with 2 Axes>"
      ]
     },
     "metadata": {
      "needs_background": "light"
     },
     "output_type": "display_data"
    }
   ],
   "source": [
    "#Create confusion matrix for Logistic Regression - All Indpendent Variables\n",
    "confusion_matrix(daModel, da_x_test, da_y_test, 'Confusion_Mat_DA_All.png', plt.cm.Greens)"
   ]
  },
  {
   "cell_type": "code",
   "execution_count": 54,
   "metadata": {},
   "outputs": [
    {
     "name": "stdout",
     "output_type": "stream",
     "text": [
      "Confusion matrix, without normalization\n",
      "[[55904  7771]\n",
      " [ 8114 22515]]\n",
      "Normalized confusion matrix\n",
      "[[0.87795838 0.12204162]\n",
      " [0.26491234 0.73508766]]\n"
     ]
    },
    {
     "data": {
      "image/png": "[encoded data removed]",
      "text/plain": [
       "<Figure size 432x288 with 2 Axes>"
      ]
     },
     "metadata": {
      "needs_background": "light"
     },
     "output_type": "display_data"
    },
    {
     "data": {
      "image/png": "[encoded data removed]",
      "text/plain": [
       "<Figure size 432x288 with 2 Axes>"
      ]
     },
     "metadata": {
      "needs_background": "light"
     },
     "output_type": "display_data"
    }
   ],
   "source": [
    "#Create confusion matrix for Logistic Regression - Select Indpendent Variables\n",
    "confusion_matrix(daModel2, da_x2_test, da_y2_test, 'Confusion_Mat_Da_Select.png', plt.cm.Greens)"
   ]
  },
  {
   "cell_type": "code",
   "execution_count": 59,
   "metadata": {},
   "outputs": [],
   "source": [
    "%%R\n",
    "#I am back to using R in this cell because I am making another TOC Curv diagram.\n",
    "##Open the CSV saved from the earlier portion of this code.\n",
    "GM_Full_Result <- read.csv(file =\"GM_Full_Result.csv\", header=TRUE, dec=\".\", stringsAsFactors=FALSE)"
   ]
  },
  {
   "cell_type": "code",
   "execution_count": 60,
   "metadata": {},
   "outputs": [],
   "source": [
    "%%R\n",
    "##Create new numeric index variables from dataframe columns. I am using the calculated values from the coefficients/intercept for each model as the index.\n",
    "LR_All <- (GM_Full_Result$LR_All)\n",
    "LR_Select <- (GM_Full_Result$LR_Select)\n",
    "DA_All <- (GM_Full_Result$DA_All)\n",
    "DA_Select <- (GM_Full_Result$DA_Select)\n",
    "\n",
    "##Create reference.boolean image for input into TOC\n",
    "boolean <- (GM_Full_Result$GM_Presence)"
   ]
  },
  {
   "cell_type": "code",
   "execution_count": 61,
   "metadata": {},
   "outputs": [],
   "source": [
    "%%R\n",
    "## These lines create TOC objects. This creates 100 equal intervals. \n",
    "tocdLA <- TOC(LR_All, boolean, nthres=100, thres=NULL, P=NA, Q=NA,\n",
    "              progress=FALSE, units=character(0))\n",
    "tocdLS <- TOC(LR_Select, boolean, nthres=100, thres=NULL, P=NA, Q=NA,\n",
    "              progress=FALSE, units=character(0))\n",
    "tocdDA <- TOC(DA_All, boolean, nthres=100, thres=NULL, P=NA, Q=NA,\n",
    "              progress=FALSE, units=character(0))\n",
    "tocdDS <- TOC(DA_Select, boolean, nthres=100, thres=NULL, P=NA, Q=NA,\n",
    "              progress=FALSE, units=character(0))"
   ]
  },
  {
   "cell_type": "code",
   "execution_count": 62,
   "metadata": {},
   "outputs": [
    {
     "ename": "PermissionError",
     "evalue": "[WinError 32] The process cannot access the file because it is being used by another process: 'C:\\\\Users\\\\Emily\\\\AppData\\\\Local\\\\Temp\\\\tmps0zmafco\\\\Rplots001.png'",
     "output_type": "error",
     "traceback": [
      "\u001b[1;31m---------------------------------------------------------------------------\u001b[0m",
      "\u001b[1;31mPermissionError\u001b[0m                           Traceback (most recent call last)",
      "\u001b[1;32m<ipython-input-62-848dc19a71ca>\u001b[0m in \u001b[0;36m<module>\u001b[1;34m\u001b[0m\n\u001b[1;32m----> 1\u001b[1;33m \u001b[0mget_ipython\u001b[0m\u001b[1;33m(\u001b[0m\u001b[1;33m)\u001b[0m\u001b[1;33m.\u001b[0m\u001b[0mrun_cell_magic\u001b[0m\u001b[1;33m(\u001b[0m\u001b[1;34m'R'\u001b[0m\u001b[1;33m,\u001b[0m \u001b[1;34m''\u001b[0m\u001b[1;33m,\u001b[0m \u001b[1;34m'\\n..RROUT.. <- capture.output({\\n#Create a JPG file to export second TOC plot\\npng(file = \"GM_Classification_TOC.jpg\", width = 550, height = 480)\\n\\n#Set the plot to a square\\npar(pty=\"s\")\\n#Create plot object and axes\\ngraphics::plot(1, type=\"l\", main = \"TOC Curve\", lty=\"dashed\",xlab= \"Hits+False Alarms (Pixels)\", ylab=\"Hits (Pixels)\",lwd=2, col=rgb(128,100,162, maxColorValue=255), xlim=c(0, 314346),ylim=c(0, 101575), bty=\\'L\\')\\n\\n#PLot multiple lines to create multi-TOC plot\\n#minimum line\\nlines(c(0, 101575), c(0,101575), \\n      lty=\"dotdash\", lwd=2, col=rgb(50, 50,50, maxColorValue=255)) \\n# maximum line\\nlines(c(212771, 314346), c(0,101575), \\n      lty=\"dotdash\", lwd=2, col=rgb(50,50,50, maxColorValue=255)) \\n\\n# hits+misses line\\nlines(c(0, 314346), c(101575, 101575), lwd=3, col=rgb(150,150,150, maxColorValue=255))\\n\\n# uniform line\\nlines(c(0, 314346), c(0, 101575), lty=\"dotted\", lwd=2, col=rgb(25,25,25, maxColorValue=255))\\n\\n#TOC object lines\\n#Band1\\nlines(tocdLA@table$\"Hits+FalseAlarms\", tocdLA@table$Hits, lwd=2, col=rgb(255,0,0, maxColorValue=255))\\n#Band2\\nlines(tocdLS@table$\"Hits+FalseAlarms\", tocdLS@table$Hits, lty=\"dotted\", lwd=2, col=rgb(255,170,0, maxColorValue=255))\\n#Band3\\nlines(tocdDA@table$\"Hits+FalseAlarms\", tocdDA@table$Hits, lwd=2, col=rgb(0,150,150, maxColorValue=255))\\n#Band4\\nlines(tocdDS@table$\"Hits+FalseAlarms\", tocdDS@table$Hits, lty=\"dotted\", lwd=2, col=rgb(100,255,100, maxColorValue=255))\\n\\n#Set not area for plot legend\\npar(xpd=NA)\\n#Set legend. Must define names, line color, and line patterns. \\nlegend(\"topright\", inset=c(-0.15, 0.6), c(\"Hits+Misses\", \"Minimum\", \"Maximum\", \"Uniform\", \"LR All\", \"LR Select\", \"DA All\", \"DA Select\"), \\n       col = c(rgb(150,150,150, maxColorValue=255), rgb(50, 50,50, maxColorValue=255), rgb(50,50,50, maxColorValue=255), rgb(25,25,25, maxColorValue=255), rgb(255,0,0, maxColorValue=255), rgb(255,170,0, maxColorValue=255), rgb(0,150,150, maxColorValue=255), rgb(100,255,100, maxColorValue=255)),\\n       lty = c(1, 4, 4, 3, 1, 3, 1, 3), merge = TRUE, bty=\"n\", lwd=c(2, 2, 2, 2, 2, 2, 2, 2))\\n\\n#End image development\\ndev.off()\\n})\\n'\u001b[0m\u001b[1;33m)\u001b[0m\u001b[1;33m\u001b[0m\u001b[1;33m\u001b[0m\u001b[0m\n\u001b[0m",
      "\u001b[1;32m~\\anaconda3\\lib\\site-packages\\IPython\\core\\interactiveshell.py\u001b[0m in \u001b[0;36mrun_cell_magic\u001b[1;34m(self, magic_name, line, cell)\u001b[0m\n\u001b[0;32m   2369\u001b[0m             \u001b[1;32mwith\u001b[0m \u001b[0mself\u001b[0m\u001b[1;33m.\u001b[0m\u001b[0mbuiltin_trap\u001b[0m\u001b[1;33m:\u001b[0m\u001b[1;33m\u001b[0m\u001b[1;33m\u001b[0m\u001b[0m\n\u001b[0;32m   2370\u001b[0m                 \u001b[0margs\u001b[0m \u001b[1;33m=\u001b[0m \u001b[1;33m(\u001b[0m\u001b[0mmagic_arg_s\u001b[0m\u001b[1;33m,\u001b[0m \u001b[0mcell\u001b[0m\u001b[1;33m)\u001b[0m\u001b[1;33m\u001b[0m\u001b[1;33m\u001b[0m\u001b[0m\n\u001b[1;32m-> 2371\u001b[1;33m                 \u001b[0mresult\u001b[0m \u001b[1;33m=\u001b[0m \u001b[0mfn\u001b[0m\u001b[1;33m(\u001b[0m\u001b[1;33m*\u001b[0m\u001b[0margs\u001b[0m\u001b[1;33m,\u001b[0m \u001b[1;33m**\u001b[0m\u001b[0mkwargs\u001b[0m\u001b[1;33m)\u001b[0m\u001b[1;33m\u001b[0m\u001b[1;33m\u001b[0m\u001b[0m\n\u001b[0m\u001b[0;32m   2372\u001b[0m             \u001b[1;32mreturn\u001b[0m \u001b[0mresult\u001b[0m\u001b[1;33m\u001b[0m\u001b[1;33m\u001b[0m\u001b[0m\n\u001b[0;32m   2373\u001b[0m \u001b[1;33m\u001b[0m\u001b[0m\n",
      "\u001b[1;32m<decorator-gen-131>\u001b[0m in \u001b[0;36mR\u001b[1;34m(self, line, cell, local_ns)\u001b[0m\n",
      "\u001b[1;32m~\\anaconda3\\lib\\site-packages\\IPython\\core\\magic.py\u001b[0m in \u001b[0;36m<lambda>\u001b[1;34m(f, *a, **k)\u001b[0m\n\u001b[0;32m    185\u001b[0m     \u001b[1;31m# but it's overkill for just that one bit of state.\u001b[0m\u001b[1;33m\u001b[0m\u001b[1;33m\u001b[0m\u001b[1;33m\u001b[0m\u001b[0m\n\u001b[0;32m    186\u001b[0m     \u001b[1;32mdef\u001b[0m \u001b[0mmagic_deco\u001b[0m\u001b[1;33m(\u001b[0m\u001b[0marg\u001b[0m\u001b[1;33m)\u001b[0m\u001b[1;33m:\u001b[0m\u001b[1;33m\u001b[0m\u001b[1;33m\u001b[0m\u001b[0m\n\u001b[1;32m--> 187\u001b[1;33m         \u001b[0mcall\u001b[0m \u001b[1;33m=\u001b[0m \u001b[1;32mlambda\u001b[0m \u001b[0mf\u001b[0m\u001b[1;33m,\u001b[0m \u001b[1;33m*\u001b[0m\u001b[0ma\u001b[0m\u001b[1;33m,\u001b[0m \u001b[1;33m**\u001b[0m\u001b[0mk\u001b[0m\u001b[1;33m:\u001b[0m \u001b[0mf\u001b[0m\u001b[1;33m(\u001b[0m\u001b[1;33m*\u001b[0m\u001b[0ma\u001b[0m\u001b[1;33m,\u001b[0m \u001b[1;33m**\u001b[0m\u001b[0mk\u001b[0m\u001b[1;33m)\u001b[0m\u001b[1;33m\u001b[0m\u001b[1;33m\u001b[0m\u001b[0m\n\u001b[0m\u001b[0;32m    188\u001b[0m \u001b[1;33m\u001b[0m\u001b[0m\n\u001b[0;32m    189\u001b[0m         \u001b[1;32mif\u001b[0m \u001b[0mcallable\u001b[0m\u001b[1;33m(\u001b[0m\u001b[0marg\u001b[0m\u001b[1;33m)\u001b[0m\u001b[1;33m:\u001b[0m\u001b[1;33m\u001b[0m\u001b[1;33m\u001b[0m\u001b[0m\n",
      "\u001b[1;32m~\\anaconda3\\lib\\site-packages\\rpy2\\ipython\\rmagic.py\u001b[0m in \u001b[0;36mR\u001b[1;34m(self, line, cell, local_ns)\u001b[0m\n\u001b[0;32m    735\u001b[0m             \u001b[1;31m# kill the temporary directory - currently created only for \"svg\"\u001b[0m\u001b[1;33m\u001b[0m\u001b[1;33m\u001b[0m\u001b[1;33m\u001b[0m\u001b[0m\n\u001b[0;32m    736\u001b[0m             \u001b[1;31m# and \"png\" (else it's None)\u001b[0m\u001b[1;33m\u001b[0m\u001b[1;33m\u001b[0m\u001b[1;33m\u001b[0m\u001b[0m\n\u001b[1;32m--> 737\u001b[1;33m             \u001b[0mrmtree\u001b[0m\u001b[1;33m(\u001b[0m\u001b[0mtmpd\u001b[0m\u001b[1;33m)\u001b[0m\u001b[1;33m\u001b[0m\u001b[1;33m\u001b[0m\u001b[0m\n\u001b[0m\u001b[0;32m    738\u001b[0m \u001b[1;33m\u001b[0m\u001b[0m\n\u001b[0;32m    739\u001b[0m         \u001b[1;32mif\u001b[0m \u001b[0margs\u001b[0m\u001b[1;33m.\u001b[0m\u001b[0moutput\u001b[0m\u001b[1;33m:\u001b[0m\u001b[1;33m\u001b[0m\u001b[1;33m\u001b[0m\u001b[0m\n",
      "\u001b[1;32m~\\anaconda3\\lib\\shutil.py\u001b[0m in \u001b[0;36mrmtree\u001b[1;34m(path, ignore_errors, onerror)\u001b[0m\n\u001b[0;32m    514\u001b[0m             \u001b[1;31m# can't continue even if onerror hook returns\u001b[0m\u001b[1;33m\u001b[0m\u001b[1;33m\u001b[0m\u001b[1;33m\u001b[0m\u001b[0m\n\u001b[0;32m    515\u001b[0m             \u001b[1;32mreturn\u001b[0m\u001b[1;33m\u001b[0m\u001b[1;33m\u001b[0m\u001b[0m\n\u001b[1;32m--> 516\u001b[1;33m         \u001b[1;32mreturn\u001b[0m \u001b[0m_rmtree_unsafe\u001b[0m\u001b[1;33m(\u001b[0m\u001b[0mpath\u001b[0m\u001b[1;33m,\u001b[0m \u001b[0monerror\u001b[0m\u001b[1;33m)\u001b[0m\u001b[1;33m\u001b[0m\u001b[1;33m\u001b[0m\u001b[0m\n\u001b[0m\u001b[0;32m    517\u001b[0m \u001b[1;33m\u001b[0m\u001b[0m\n\u001b[0;32m    518\u001b[0m \u001b[1;31m# Allow introspection of whether or not the hardening against symlink\u001b[0m\u001b[1;33m\u001b[0m\u001b[1;33m\u001b[0m\u001b[1;33m\u001b[0m\u001b[0m\n",
      "\u001b[1;32m~\\anaconda3\\lib\\shutil.py\u001b[0m in \u001b[0;36m_rmtree_unsafe\u001b[1;34m(path, onerror)\u001b[0m\n\u001b[0;32m    398\u001b[0m                 \u001b[0mos\u001b[0m\u001b[1;33m.\u001b[0m\u001b[0munlink\u001b[0m\u001b[1;33m(\u001b[0m\u001b[0mfullname\u001b[0m\u001b[1;33m)\u001b[0m\u001b[1;33m\u001b[0m\u001b[1;33m\u001b[0m\u001b[0m\n\u001b[0;32m    399\u001b[0m             \u001b[1;32mexcept\u001b[0m \u001b[0mOSError\u001b[0m\u001b[1;33m:\u001b[0m\u001b[1;33m\u001b[0m\u001b[1;33m\u001b[0m\u001b[0m\n\u001b[1;32m--> 400\u001b[1;33m                 \u001b[0monerror\u001b[0m\u001b[1;33m(\u001b[0m\u001b[0mos\u001b[0m\u001b[1;33m.\u001b[0m\u001b[0munlink\u001b[0m\u001b[1;33m,\u001b[0m \u001b[0mfullname\u001b[0m\u001b[1;33m,\u001b[0m \u001b[0msys\u001b[0m\u001b[1;33m.\u001b[0m\u001b[0mexc_info\u001b[0m\u001b[1;33m(\u001b[0m\u001b[1;33m)\u001b[0m\u001b[1;33m)\u001b[0m\u001b[1;33m\u001b[0m\u001b[1;33m\u001b[0m\u001b[0m\n\u001b[0m\u001b[0;32m    401\u001b[0m     \u001b[1;32mtry\u001b[0m\u001b[1;33m:\u001b[0m\u001b[1;33m\u001b[0m\u001b[1;33m\u001b[0m\u001b[0m\n\u001b[0;32m    402\u001b[0m         \u001b[0mos\u001b[0m\u001b[1;33m.\u001b[0m\u001b[0mrmdir\u001b[0m\u001b[1;33m(\u001b[0m\u001b[0mpath\u001b[0m\u001b[1;33m)\u001b[0m\u001b[1;33m\u001b[0m\u001b[1;33m\u001b[0m\u001b[0m\n",
      "\u001b[1;32m~\\anaconda3\\lib\\shutil.py\u001b[0m in \u001b[0;36m_rmtree_unsafe\u001b[1;34m(path, onerror)\u001b[0m\n\u001b[0;32m    396\u001b[0m         \u001b[1;32melse\u001b[0m\u001b[1;33m:\u001b[0m\u001b[1;33m\u001b[0m\u001b[1;33m\u001b[0m\u001b[0m\n\u001b[0;32m    397\u001b[0m             \u001b[1;32mtry\u001b[0m\u001b[1;33m:\u001b[0m\u001b[1;33m\u001b[0m\u001b[1;33m\u001b[0m\u001b[0m\n\u001b[1;32m--> 398\u001b[1;33m                 \u001b[0mos\u001b[0m\u001b[1;33m.\u001b[0m\u001b[0munlink\u001b[0m\u001b[1;33m(\u001b[0m\u001b[0mfullname\u001b[0m\u001b[1;33m)\u001b[0m\u001b[1;33m\u001b[0m\u001b[1;33m\u001b[0m\u001b[0m\n\u001b[0m\u001b[0;32m    399\u001b[0m             \u001b[1;32mexcept\u001b[0m \u001b[0mOSError\u001b[0m\u001b[1;33m:\u001b[0m\u001b[1;33m\u001b[0m\u001b[1;33m\u001b[0m\u001b[0m\n\u001b[0;32m    400\u001b[0m                 \u001b[0monerror\u001b[0m\u001b[1;33m(\u001b[0m\u001b[0mos\u001b[0m\u001b[1;33m.\u001b[0m\u001b[0munlink\u001b[0m\u001b[1;33m,\u001b[0m \u001b[0mfullname\u001b[0m\u001b[1;33m,\u001b[0m \u001b[0msys\u001b[0m\u001b[1;33m.\u001b[0m\u001b[0mexc_info\u001b[0m\u001b[1;33m(\u001b[0m\u001b[1;33m)\u001b[0m\u001b[1;33m)\u001b[0m\u001b[1;33m\u001b[0m\u001b[1;33m\u001b[0m\u001b[0m\n",
      "\u001b[1;31mPermissionError\u001b[0m: [WinError 32] The process cannot access the file because it is being used by another process: 'C:\\\\Users\\\\Emily\\\\AppData\\\\Local\\\\Temp\\\\tmps0zmafco\\\\Rplots001.png'"
     ]
    },
    {
     "name": "stdout",
     "output_type": "stream",
     "text": [
      "png \n",
      "  2 \n"
     ]
    }
   ],
   "source": [
    "%%R\n",
    "#Create a JPG file to export second TOC plot\n",
    "png(file = \"GM_Classification_TOC.jpg\", width = 550, height = 480)\n",
    "\n",
    "#Set the plot to a square\n",
    "par(pty=\"s\")\n",
    "#Create plot object and axes\n",
    "graphics::plot(1, type=\"l\", main = \"TOC Curve\", lty=\"dashed\",xlab= \"Hits+False Alarms (Pixels)\", ylab=\"Hits (Pixels)\",lwd=2, col=rgb(128,100,162, maxColorValue=255), xlim=c(0, 314346),ylim=c(0, 101575), bty='L')\n",
    "\n",
    "#PLot multiple lines to create multi-TOC plot\n",
    "#minimum line\n",
    "lines(c(0, 101575), c(0,101575), \n",
    "      lty=\"dotdash\", lwd=2, col=rgb(50, 50,50, maxColorValue=255)) \n",
    "# maximum line\n",
    "lines(c(212771, 314346), c(0,101575), \n",
    "      lty=\"dotdash\", lwd=2, col=rgb(50,50,50, maxColorValue=255)) \n",
    "\n",
    "# hits+misses line\n",
    "lines(c(0, 314346), c(101575, 101575), lwd=3, col=rgb(150,150,150, maxColorValue=255))\n",
    "\n",
    "# uniform line\n",
    "lines(c(0, 314346), c(0, 101575), lty=\"dotted\", lwd=2, col=rgb(25,25,25, maxColorValue=255))\n",
    "\n",
    "#TOC object lines\n",
    "#Band1\n",
    "lines(tocdLA@table$\"Hits+FalseAlarms\", tocdLA@table$Hits, lwd=2, col=rgb(255,0,0, maxColorValue=255))\n",
    "#Band2\n",
    "lines(tocdLS@table$\"Hits+FalseAlarms\", tocdLS@table$Hits, lty=\"dotted\", lwd=2, col=rgb(255,170,0, maxColorValue=255))\n",
    "#Band3\n",
    "lines(tocdDA@table$\"Hits+FalseAlarms\", tocdDA@table$Hits, lwd=2, col=rgb(0,150,150, maxColorValue=255))\n",
    "#Band4\n",
    "lines(tocdDS@table$\"Hits+FalseAlarms\", tocdDS@table$Hits, lty=\"dotted\", lwd=2, col=rgb(100,255,100, maxColorValue=255))\n",
    "\n",
    "#Set not area for plot legend\n",
    "par(xpd=NA)\n",
    "#Set legend. Must define names, line color, and line patterns. \n",
    "legend(\"topright\", inset=c(-0.15, 0.6), c(\"Hits+Misses\", \"Minimum\", \"Maximum\", \"Uniform\", \"LR All\", \"LR Select\", \"DA All\", \"DA Select\"), \n",
    "       col = c(rgb(150,150,150, maxColorValue=255), rgb(50, 50,50, maxColorValue=255), rgb(50,50,50, maxColorValue=255), rgb(25,25,25, maxColorValue=255), rgb(255,0,0, maxColorValue=255), rgb(255,170,0, maxColorValue=255), rgb(0,150,150, maxColorValue=255), rgb(100,255,100, maxColorValue=255)),\n",
    "       lty = c(1, 4, 4, 3, 1, 3, 1, 3), merge = TRUE, bty=\"n\", lwd=c(2, 2, 2, 2, 2, 2, 2, 2))\n",
    "\n",
    "#End image development\n",
    "dev.off()"
   ]
  },
  {
   "cell_type": "code",
   "execution_count": 72,
   "metadata": {},
   "outputs": [],
   "source": [
    "%%R\n",
    "#Saving AUC values. I will use these to rank the bands by AUC value.\n",
    "aucLA <- tocdLA@AUC\n",
    "aucLS <- tocdLS@AUC\n",
    "aucDA <- tocdDA@AUC\n",
    "aucDS <- tocdDS@AUC"
   ]
  },
  {
   "cell_type": "code",
   "execution_count": 73,
   "metadata": {},
   "outputs": [
    {
     "name": "stdout",
     "output_type": "stream",
     "text": [
      "        AUC      Name rank\n",
      "2 0.8849700 LR Select    1\n",
      "4 0.8950207 DA Select    2\n",
      "1 0.8960981    LR All    3\n",
      "3 0.8976305    DA All    4\n"
     ]
    }
   ],
   "source": [
    "%%R\n",
    "#Finally, I rank the AUC values.\n",
    "#Creating a dataframe for the input variables and their AUC values so I can rank the AUC values\n",
    "TOC_df <- data.frame(\"AUC\" = c(aucLA, aucLS, aucDA, aucDS), \"Name\" = c(\"LR All\",\"LR Select\", \"DA All\", \"DA Select\")) \n",
    "\n",
    "#Create a new column\n",
    "TOC_df$rank <- NA\n",
    "#Order the AUC values\n",
    "order.AUC <- order(TOC_df$AUC)\n",
    "#Create a new dataframe which is order by AUC\n",
    "TOC_df1 <- TOC_df[order.AUC,]\n",
    "#create a new column called \"rank\"\n",
    "TOC_df1$rank <- rank(TOC_df1$AUC)\n",
    "#Display that new dataframe\n",
    "TOC_df1"
   ]
  },
  {
   "cell_type": "code",
   "execution_count": 74,
   "metadata": {},
   "outputs": [
    {
     "ename": "ValueError",
     "evalue": "columns overlap but no suffix specified: Index(['LR_All_Pred', 'LR_All', 'LR_Select_Pred', 'LR_Select', 'DA_All_Pred',\n       'DA_All', 'DA_Select_Pred', 'DA_Select'],\n      dtype='object')",
     "output_type": "error",
     "traceback": [
      "\u001b[1;31m---------------------------------------------------------------------------\u001b[0m",
      "\u001b[1;31mValueError\u001b[0m                                Traceback (most recent call last)",
      "\u001b[1;32m<ipython-input-74-fdf0b5bcc18c>\u001b[0m in \u001b[0;36m<module>\u001b[1;34m\u001b[0m\n\u001b[0;32m      2\u001b[0m \u001b[0mcrosstab\u001b[0m \u001b[1;33m=\u001b[0m \u001b[0mGM_Full_Result\u001b[0m\u001b[1;33m[\u001b[0m\u001b[1;33m[\u001b[0m\u001b[1;34m\"LR_All_Pred\"\u001b[0m\u001b[1;33m,\u001b[0m \u001b[1;34m\"LR_All\"\u001b[0m\u001b[1;33m,\u001b[0m \u001b[1;34m\"LR_Select_Pred\"\u001b[0m\u001b[1;33m,\u001b[0m \u001b[1;34m\"LR_Select\"\u001b[0m\u001b[1;33m,\u001b[0m \u001b[1;34m\"DA_All_Pred\"\u001b[0m\u001b[1;33m,\u001b[0m \u001b[1;34m\"DA_All\"\u001b[0m\u001b[1;33m,\u001b[0m \u001b[1;34m\"DA_Select_Pred\"\u001b[0m\u001b[1;33m,\u001b[0m \u001b[1;34m\"DA_Select\"\u001b[0m\u001b[1;33m]\u001b[0m\u001b[1;33m]\u001b[0m\u001b[1;33m.\u001b[0m\u001b[0mcopy\u001b[0m\u001b[1;33m(\u001b[0m\u001b[1;33m)\u001b[0m\u001b[1;33m\u001b[0m\u001b[1;33m\u001b[0m\u001b[0m\n\u001b[0;32m      3\u001b[0m \u001b[1;33m\u001b[0m\u001b[0m\n\u001b[1;32m----> 4\u001b[1;33m \u001b[0mGM_Data\u001b[0m \u001b[1;33m=\u001b[0m \u001b[0mGM_Data\u001b[0m\u001b[1;33m.\u001b[0m\u001b[0mjoin\u001b[0m\u001b[1;33m(\u001b[0m\u001b[0mcrosstab\u001b[0m\u001b[1;33m,\u001b[0m\u001b[0mhow\u001b[0m\u001b[1;33m=\u001b[0m\u001b[1;34m'outer'\u001b[0m\u001b[1;33m)\u001b[0m\u001b[1;33m\u001b[0m\u001b[1;33m\u001b[0m\u001b[0m\n\u001b[0m",
      "\u001b[1;32m~\\anaconda3\\lib\\site-packages\\pandas\\core\\frame.py\u001b[0m in \u001b[0;36mjoin\u001b[1;34m(self, other, on, how, lsuffix, rsuffix, sort)\u001b[0m\n\u001b[0;32m   7207\u001b[0m         \"\"\"\n\u001b[0;32m   7208\u001b[0m         return self._join_compat(\n\u001b[1;32m-> 7209\u001b[1;33m             \u001b[0mother\u001b[0m\u001b[1;33m,\u001b[0m \u001b[0mon\u001b[0m\u001b[1;33m=\u001b[0m\u001b[0mon\u001b[0m\u001b[1;33m,\u001b[0m \u001b[0mhow\u001b[0m\u001b[1;33m=\u001b[0m\u001b[0mhow\u001b[0m\u001b[1;33m,\u001b[0m \u001b[0mlsuffix\u001b[0m\u001b[1;33m=\u001b[0m\u001b[0mlsuffix\u001b[0m\u001b[1;33m,\u001b[0m \u001b[0mrsuffix\u001b[0m\u001b[1;33m=\u001b[0m\u001b[0mrsuffix\u001b[0m\u001b[1;33m,\u001b[0m \u001b[0msort\u001b[0m\u001b[1;33m=\u001b[0m\u001b[0msort\u001b[0m\u001b[1;33m\u001b[0m\u001b[1;33m\u001b[0m\u001b[0m\n\u001b[0m\u001b[0;32m   7210\u001b[0m         )\n\u001b[0;32m   7211\u001b[0m \u001b[1;33m\u001b[0m\u001b[0m\n",
      "\u001b[1;32m~\\anaconda3\\lib\\site-packages\\pandas\\core\\frame.py\u001b[0m in \u001b[0;36m_join_compat\u001b[1;34m(self, other, on, how, lsuffix, rsuffix, sort)\u001b[0m\n\u001b[0;32m   7230\u001b[0m                 \u001b[0mright_index\u001b[0m\u001b[1;33m=\u001b[0m\u001b[1;32mTrue\u001b[0m\u001b[1;33m,\u001b[0m\u001b[1;33m\u001b[0m\u001b[1;33m\u001b[0m\u001b[0m\n\u001b[0;32m   7231\u001b[0m                 \u001b[0msuffixes\u001b[0m\u001b[1;33m=\u001b[0m\u001b[1;33m(\u001b[0m\u001b[0mlsuffix\u001b[0m\u001b[1;33m,\u001b[0m \u001b[0mrsuffix\u001b[0m\u001b[1;33m)\u001b[0m\u001b[1;33m,\u001b[0m\u001b[1;33m\u001b[0m\u001b[1;33m\u001b[0m\u001b[0m\n\u001b[1;32m-> 7232\u001b[1;33m                 \u001b[0msort\u001b[0m\u001b[1;33m=\u001b[0m\u001b[0msort\u001b[0m\u001b[1;33m,\u001b[0m\u001b[1;33m\u001b[0m\u001b[1;33m\u001b[0m\u001b[0m\n\u001b[0m\u001b[0;32m   7233\u001b[0m             )\n\u001b[0;32m   7234\u001b[0m         \u001b[1;32melse\u001b[0m\u001b[1;33m:\u001b[0m\u001b[1;33m\u001b[0m\u001b[1;33m\u001b[0m\u001b[0m\n",
      "\u001b[1;32m~\\anaconda3\\lib\\site-packages\\pandas\\core\\reshape\\merge.py\u001b[0m in \u001b[0;36mmerge\u001b[1;34m(left, right, how, on, left_on, right_on, left_index, right_index, sort, suffixes, copy, indicator, validate)\u001b[0m\n\u001b[0;32m     86\u001b[0m         \u001b[0mvalidate\u001b[0m\u001b[1;33m=\u001b[0m\u001b[0mvalidate\u001b[0m\u001b[1;33m,\u001b[0m\u001b[1;33m\u001b[0m\u001b[1;33m\u001b[0m\u001b[0m\n\u001b[0;32m     87\u001b[0m     )\n\u001b[1;32m---> 88\u001b[1;33m     \u001b[1;32mreturn\u001b[0m \u001b[0mop\u001b[0m\u001b[1;33m.\u001b[0m\u001b[0mget_result\u001b[0m\u001b[1;33m(\u001b[0m\u001b[1;33m)\u001b[0m\u001b[1;33m\u001b[0m\u001b[1;33m\u001b[0m\u001b[0m\n\u001b[0m\u001b[0;32m     89\u001b[0m \u001b[1;33m\u001b[0m\u001b[0m\n\u001b[0;32m     90\u001b[0m \u001b[1;33m\u001b[0m\u001b[0m\n",
      "\u001b[1;32m~\\anaconda3\\lib\\site-packages\\pandas\\core\\reshape\\merge.py\u001b[0m in \u001b[0;36mget_result\u001b[1;34m(self)\u001b[0m\n\u001b[0;32m    647\u001b[0m \u001b[1;33m\u001b[0m\u001b[0m\n\u001b[0;32m    648\u001b[0m         llabels, rlabels = _items_overlap_with_suffix(\n\u001b[1;32m--> 649\u001b[1;33m             \u001b[0mldata\u001b[0m\u001b[1;33m.\u001b[0m\u001b[0mitems\u001b[0m\u001b[1;33m,\u001b[0m \u001b[0mlsuf\u001b[0m\u001b[1;33m,\u001b[0m \u001b[0mrdata\u001b[0m\u001b[1;33m.\u001b[0m\u001b[0mitems\u001b[0m\u001b[1;33m,\u001b[0m \u001b[0mrsuf\u001b[0m\u001b[1;33m\u001b[0m\u001b[1;33m\u001b[0m\u001b[0m\n\u001b[0m\u001b[0;32m    650\u001b[0m         )\n\u001b[0;32m    651\u001b[0m \u001b[1;33m\u001b[0m\u001b[0m\n",
      "\u001b[1;32m~\\anaconda3\\lib\\site-packages\\pandas\\core\\reshape\\merge.py\u001b[0m in \u001b[0;36m_items_overlap_with_suffix\u001b[1;34m(left, lsuffix, right, rsuffix)\u001b[0m\n\u001b[0;32m   2024\u001b[0m         raise ValueError(\n\u001b[0;32m   2025\u001b[0m             \u001b[1;34m\"columns overlap but no suffix specified: \"\u001b[0m\u001b[1;33m\u001b[0m\u001b[1;33m\u001b[0m\u001b[0m\n\u001b[1;32m-> 2026\u001b[1;33m             \u001b[1;34m\"{rename}\"\u001b[0m\u001b[1;33m.\u001b[0m\u001b[0mformat\u001b[0m\u001b[1;33m(\u001b[0m\u001b[0mrename\u001b[0m\u001b[1;33m=\u001b[0m\u001b[0mto_rename\u001b[0m\u001b[1;33m)\u001b[0m\u001b[1;33m\u001b[0m\u001b[1;33m\u001b[0m\u001b[0m\n\u001b[0m\u001b[0;32m   2027\u001b[0m         )\n\u001b[0;32m   2028\u001b[0m \u001b[1;33m\u001b[0m\u001b[0m\n",
      "\u001b[1;31mValueError\u001b[0m: columns overlap but no suffix specified: Index(['LR_All_Pred', 'LR_All', 'LR_Select_Pred', 'LR_Select', 'DA_All_Pred',\n       'DA_All', 'DA_Select_Pred', 'DA_Select'],\n      dtype='object')"
     ]
    }
   ],
   "source": [
    "#Add new columns to larger dataframe\n",
    "crosstab = GM_Full_Result[[\"LR_All_Pred\", \"LR_All\", \"LR_Select_Pred\", \"LR_Select\", \"DA_All_Pred\", \"DA_All\", \"DA_Select_Pred\", \"DA_Select\"]].copy()\n",
    "\n",
    "GM_Data = GM_Data.join(crosstab,how='outer')"
   ]
  },
  {
   "cell_type": "code",
   "execution_count": 75,
   "metadata": {},
   "outputs": [
    {
     "data": {
      "text/html": [
       "<div>\n",
       "<style scoped>\n",
       "    .dataframe tbody tr th:only-of-type {\n",
       "        vertical-align: middle;\n",
       "    }\n",
       "\n",
       "    .dataframe tbody tr th {\n",
       "        vertical-align: top;\n",
       "    }\n",
       "\n",
       "    .dataframe thead th {\n",
       "        text-align: right;\n",
       "    }\n",
       "</style>\n",
       "<table border=\"1\" class=\"dataframe\">\n",
       "  <thead>\n",
       "    <tr style=\"text-align: right;\">\n",
       "      <th></th>\n",
       "      <th>Landcover</th>\n",
       "      <th>GM_Presence</th>\n",
       "      <th>Band1</th>\n",
       "      <th>Band2</th>\n",
       "      <th>Band3</th>\n",
       "      <th>Band4</th>\n",
       "      <th>Band5</th>\n",
       "      <th>Band6</th>\n",
       "      <th>Band7</th>\n",
       "      <th>Band8</th>\n",
       "      <th>...</th>\n",
       "      <th>LR_Select_Pred</th>\n",
       "      <th>LR_Select</th>\n",
       "      <th>DA_All_Pred</th>\n",
       "      <th>DA_All</th>\n",
       "      <th>DA_Select_Pred</th>\n",
       "      <th>DA_Select</th>\n",
       "      <th>Cross_LR_All</th>\n",
       "      <th>Cross_LR_Select</th>\n",
       "      <th>Cross_DA_All</th>\n",
       "      <th>Cross_DA_Select</th>\n",
       "    </tr>\n",
       "  </thead>\n",
       "  <tbody>\n",
       "    <tr>\n",
       "      <th>count</th>\n",
       "      <td>501835.000000</td>\n",
       "      <td>501835.000000</td>\n",
       "      <td>501835.000000</td>\n",
       "      <td>501835.000000</td>\n",
       "      <td>501835.000000</td>\n",
       "      <td>501835.000000</td>\n",
       "      <td>501835.000000</td>\n",
       "      <td>501835.000000</td>\n",
       "      <td>501835.000000</td>\n",
       "      <td>501835.000000</td>\n",
       "      <td>...</td>\n",
       "      <td>314346.000000</td>\n",
       "      <td>314346.000000</td>\n",
       "      <td>314346.000000</td>\n",
       "      <td>314346.000000</td>\n",
       "      <td>314346.000000</td>\n",
       "      <td>314346.000000</td>\n",
       "      <td>0.0</td>\n",
       "      <td>0.0</td>\n",
       "      <td>0.0</td>\n",
       "      <td>0.0</td>\n",
       "    </tr>\n",
       "    <tr>\n",
       "      <th>mean</th>\n",
       "      <td>43.482059</td>\n",
       "      <td>0.216211</td>\n",
       "      <td>175.881851</td>\n",
       "      <td>201.398270</td>\n",
       "      <td>371.671875</td>\n",
       "      <td>293.975983</td>\n",
       "      <td>2026.632690</td>\n",
       "      <td>1319.778809</td>\n",
       "      <td>623.611633</td>\n",
       "      <td>201.775711</td>\n",
       "      <td>...</td>\n",
       "      <td>1.489041</td>\n",
       "      <td>-1.268092</td>\n",
       "      <td>1.489031</td>\n",
       "      <td>-1.374798</td>\n",
       "      <td>1.496345</td>\n",
       "      <td>-1.336189</td>\n",
       "      <td>NaN</td>\n",
       "      <td>NaN</td>\n",
       "      <td>NaN</td>\n",
       "      <td>NaN</td>\n",
       "    </tr>\n",
       "    <tr>\n",
       "      <th>std</th>\n",
       "      <td>29.861376</td>\n",
       "      <td>0.424317</td>\n",
       "      <td>145.578918</td>\n",
       "      <td>166.616653</td>\n",
       "      <td>295.134216</td>\n",
       "      <td>263.880615</td>\n",
       "      <td>1637.552734</td>\n",
       "      <td>1059.251343</td>\n",
       "      <td>529.300720</td>\n",
       "      <td>155.791107</td>\n",
       "      <td>...</td>\n",
       "      <td>0.819634</td>\n",
       "      <td>1.982914</td>\n",
       "      <td>0.819645</td>\n",
       "      <td>2.535594</td>\n",
       "      <td>0.810739</td>\n",
       "      <td>2.417379</td>\n",
       "      <td>NaN</td>\n",
       "      <td>NaN</td>\n",
       "      <td>NaN</td>\n",
       "      <td>NaN</td>\n",
       "    </tr>\n",
       "    <tr>\n",
       "      <th>min</th>\n",
       "      <td>-128.000000</td>\n",
       "      <td>0.000000</td>\n",
       "      <td>-233.728867</td>\n",
       "      <td>-127.737000</td>\n",
       "      <td>0.000000</td>\n",
       "      <td>0.000000</td>\n",
       "      <td>0.000000</td>\n",
       "      <td>0.000000</td>\n",
       "      <td>0.000000</td>\n",
       "      <td>0.000000</td>\n",
       "      <td>...</td>\n",
       "      <td>0.000000</td>\n",
       "      <td>-7.516654</td>\n",
       "      <td>0.000000</td>\n",
       "      <td>-11.193649</td>\n",
       "      <td>0.000000</td>\n",
       "      <td>-14.904188</td>\n",
       "      <td>NaN</td>\n",
       "      <td>NaN</td>\n",
       "      <td>NaN</td>\n",
       "      <td>NaN</td>\n",
       "    </tr>\n",
       "    <tr>\n",
       "      <th>25%</th>\n",
       "      <td>41.000000</td>\n",
       "      <td>0.000000</td>\n",
       "      <td>0.000000</td>\n",
       "      <td>0.000000</td>\n",
       "      <td>0.000000</td>\n",
       "      <td>0.000000</td>\n",
       "      <td>0.000000</td>\n",
       "      <td>0.000000</td>\n",
       "      <td>0.000000</td>\n",
       "      <td>0.000000</td>\n",
       "      <td>...</td>\n",
       "      <td>1.000000</td>\n",
       "      <td>-2.911904</td>\n",
       "      <td>1.000000</td>\n",
       "      <td>-3.520690</td>\n",
       "      <td>1.000000</td>\n",
       "      <td>-3.430641</td>\n",
       "      <td>NaN</td>\n",
       "      <td>NaN</td>\n",
       "      <td>NaN</td>\n",
       "      <td>NaN</td>\n",
       "    </tr>\n",
       "    <tr>\n",
       "      <th>50%</th>\n",
       "      <td>41.000000</td>\n",
       "      <td>0.000000</td>\n",
       "      <td>238.237900</td>\n",
       "      <td>266.409912</td>\n",
       "      <td>530.029541</td>\n",
       "      <td>314.089325</td>\n",
       "      <td>2689.169189</td>\n",
       "      <td>1825.136353</td>\n",
       "      <td>742.947205</td>\n",
       "      <td>322.000000</td>\n",
       "      <td>...</td>\n",
       "      <td>2.000000</td>\n",
       "      <td>-1.376436</td>\n",
       "      <td>2.000000</td>\n",
       "      <td>-1.974077</td>\n",
       "      <td>2.000000</td>\n",
       "      <td>-1.642371</td>\n",
       "      <td>NaN</td>\n",
       "      <td>NaN</td>\n",
       "      <td>NaN</td>\n",
       "      <td>NaN</td>\n",
       "    </tr>\n",
       "    <tr>\n",
       "      <th>75%</th>\n",
       "      <td>43.000000</td>\n",
       "      <td>0.000000</td>\n",
       "      <td>291.006927</td>\n",
       "      <td>329.760040</td>\n",
       "      <td>608.452667</td>\n",
       "      <td>490.350098</td>\n",
       "      <td>3378.854126</td>\n",
       "      <td>2149.973389</td>\n",
       "      <td>1039.509338</td>\n",
       "      <td>322.000000</td>\n",
       "      <td>...</td>\n",
       "      <td>2.000000</td>\n",
       "      <td>0.333747</td>\n",
       "      <td>2.000000</td>\n",
       "      <td>0.549282</td>\n",
       "      <td>2.000000</td>\n",
       "      <td>0.674708</td>\n",
       "      <td>NaN</td>\n",
       "      <td>NaN</td>\n",
       "      <td>NaN</td>\n",
       "      <td>NaN</td>\n",
       "    </tr>\n",
       "    <tr>\n",
       "      <th>max</th>\n",
       "      <td>95.000000</td>\n",
       "      <td>3.000000</td>\n",
       "      <td>2436.635498</td>\n",
       "      <td>2740.566162</td>\n",
       "      <td>3286.294922</td>\n",
       "      <td>3575.005371</td>\n",
       "      <td>6195.914062</td>\n",
       "      <td>4451.320801</td>\n",
       "      <td>3543.995850</td>\n",
       "      <td>386.000000</td>\n",
       "      <td>...</td>\n",
       "      <td>2.000000</td>\n",
       "      <td>6.548066</td>\n",
       "      <td>2.000000</td>\n",
       "      <td>6.810999</td>\n",
       "      <td>2.000000</td>\n",
       "      <td>6.588448</td>\n",
       "      <td>NaN</td>\n",
       "      <td>NaN</td>\n",
       "      <td>NaN</td>\n",
       "      <td>NaN</td>\n",
       "    </tr>\n",
       "  </tbody>\n",
       "</table>\n",
       "<p>8 rows × 22 columns</p>\n",
       "</div>"
      ],
      "text/plain": [
       "           Landcover    GM_Presence          Band1          Band2  \\\n",
       "count  501835.000000  501835.000000  501835.000000  501835.000000   \n",
       "mean       43.482059       0.216211     175.881851     201.398270   \n",
       "std        29.861376       0.424317     145.578918     166.616653   \n",
       "min      -128.000000       0.000000    -233.728867    -127.737000   \n",
       "25%        41.000000       0.000000       0.000000       0.000000   \n",
       "50%        41.000000       0.000000     238.237900     266.409912   \n",
       "75%        43.000000       0.000000     291.006927     329.760040   \n",
       "max        95.000000       3.000000    2436.635498    2740.566162   \n",
       "\n",
       "               Band3          Band4          Band5          Band6  \\\n",
       "count  501835.000000  501835.000000  501835.000000  501835.000000   \n",
       "mean      371.671875     293.975983    2026.632690    1319.778809   \n",
       "std       295.134216     263.880615    1637.552734    1059.251343   \n",
       "min         0.000000       0.000000       0.000000       0.000000   \n",
       "25%         0.000000       0.000000       0.000000       0.000000   \n",
       "50%       530.029541     314.089325    2689.169189    1825.136353   \n",
       "75%       608.452667     490.350098    3378.854126    2149.973389   \n",
       "max      3286.294922    3575.005371    6195.914062    4451.320801   \n",
       "\n",
       "               Band7          Band8  ...  LR_Select_Pred      LR_Select  \\\n",
       "count  501835.000000  501835.000000  ...   314346.000000  314346.000000   \n",
       "mean      623.611633     201.775711  ...        1.489041      -1.268092   \n",
       "std       529.300720     155.791107  ...        0.819634       1.982914   \n",
       "min         0.000000       0.000000  ...        0.000000      -7.516654   \n",
       "25%         0.000000       0.000000  ...        1.000000      -2.911904   \n",
       "50%       742.947205     322.000000  ...        2.000000      -1.376436   \n",
       "75%      1039.509338     322.000000  ...        2.000000       0.333747   \n",
       "max      3543.995850     386.000000  ...        2.000000       6.548066   \n",
       "\n",
       "         DA_All_Pred         DA_All  DA_Select_Pred      DA_Select  \\\n",
       "count  314346.000000  314346.000000   314346.000000  314346.000000   \n",
       "mean        1.489031      -1.374798        1.496345      -1.336189   \n",
       "std         0.819645       2.535594        0.810739       2.417379   \n",
       "min         0.000000     -11.193649        0.000000     -14.904188   \n",
       "25%         1.000000      -3.520690        1.000000      -3.430641   \n",
       "50%         2.000000      -1.974077        2.000000      -1.642371   \n",
       "75%         2.000000       0.549282        2.000000       0.674708   \n",
       "max         2.000000       6.810999        2.000000       6.588448   \n",
       "\n",
       "       Cross_LR_All  Cross_LR_Select  Cross_DA_All  Cross_DA_Select  \n",
       "count           0.0              0.0           0.0              0.0  \n",
       "mean            NaN              NaN           NaN              NaN  \n",
       "std             NaN              NaN           NaN              NaN  \n",
       "min             NaN              NaN           NaN              NaN  \n",
       "25%             NaN              NaN           NaN              NaN  \n",
       "50%             NaN              NaN           NaN              NaN  \n",
       "75%             NaN              NaN           NaN              NaN  \n",
       "max             NaN              NaN           NaN              NaN  \n",
       "\n",
       "[8 rows x 22 columns]"
      ]
     },
     "execution_count": 75,
     "metadata": {},
     "output_type": "execute_result"
    }
   ],
   "source": [
    "GM_Data.describe()"
   ]
  },
  {
   "cell_type": "code",
   "execution_count": 76,
   "metadata": {},
   "outputs": [
    {
     "name": "stdout",
     "output_type": "stream",
     "text": [
      "        Landcover  GM_Presence  Band1  Band2  Band3  Band4  Band5  Band6  \\\n",
      "0            43.0          3.0    0.0    0.0    0.0    0.0    0.0    0.0   \n",
      "1            43.0          3.0    0.0    0.0    0.0    0.0    0.0    0.0   \n",
      "2            43.0          3.0    0.0    0.0    0.0    0.0    0.0    0.0   \n",
      "3            43.0          3.0    0.0    0.0    0.0    0.0    0.0    0.0   \n",
      "4            43.0          3.0    0.0    0.0    0.0    0.0    0.0    0.0   \n",
      "...           ...          ...    ...    ...    ...    ...    ...    ...   \n",
      "501830     -128.0          0.0    0.0    0.0    0.0    0.0    0.0    0.0   \n",
      "501831     -128.0          0.0    0.0    0.0    0.0    0.0    0.0    0.0   \n",
      "501832     -128.0          0.0    0.0    0.0    0.0    0.0    0.0    0.0   \n",
      "501833     -128.0          0.0    0.0    0.0    0.0    0.0    0.0    0.0   \n",
      "501834     -128.0          0.0    0.0    0.0    0.0    0.0    0.0    0.0   \n",
      "\n",
      "        Band7  Band8  ...  LR_Select_Pred  LR_Select  DA_All_Pred  DA_All  \\\n",
      "0         0.0    0.0  ...             NaN        NaN          NaN     NaN   \n",
      "1         0.0    0.0  ...             NaN        NaN          NaN     NaN   \n",
      "2         0.0    0.0  ...             NaN        NaN          NaN     NaN   \n",
      "3         0.0    0.0  ...             NaN        NaN          NaN     NaN   \n",
      "4         0.0    0.0  ...             NaN        NaN          NaN     NaN   \n",
      "...       ...    ...  ...             ...        ...          ...     ...   \n",
      "501830    0.0    0.0  ...             NaN        NaN          NaN     NaN   \n",
      "501831    0.0    0.0  ...             NaN        NaN          NaN     NaN   \n",
      "501832    0.0    0.0  ...             NaN        NaN          NaN     NaN   \n",
      "501833    0.0    0.0  ...             NaN        NaN          NaN     NaN   \n",
      "501834    0.0    0.0  ...             NaN        NaN          NaN     NaN   \n",
      "\n",
      "        DA_Select_Pred  DA_Select  Cross_LR_All  Cross_LR_Select  \\\n",
      "0                  NaN        NaN           NaN              NaN   \n",
      "1                  NaN        NaN           NaN              NaN   \n",
      "2                  NaN        NaN           NaN              NaN   \n",
      "3                  NaN        NaN           NaN              NaN   \n",
      "4                  NaN        NaN           NaN              NaN   \n",
      "...                ...        ...           ...              ...   \n",
      "501830             NaN        NaN           NaN              NaN   \n",
      "501831             NaN        NaN           NaN              NaN   \n",
      "501832             NaN        NaN           NaN              NaN   \n",
      "501833             NaN        NaN           NaN              NaN   \n",
      "501834             NaN        NaN           NaN              NaN   \n",
      "\n",
      "        Cross_DA_All  Cross_DA_Select  \n",
      "0                NaN              NaN  \n",
      "1                NaN              NaN  \n",
      "2                NaN              NaN  \n",
      "3                NaN              NaN  \n",
      "4                NaN              NaN  \n",
      "...              ...              ...  \n",
      "501830           NaN              NaN  \n",
      "501831           NaN              NaN  \n",
      "501832           NaN              NaN  \n",
      "501833           NaN              NaN  \n",
      "501834           NaN              NaN  \n",
      "\n",
      "[501835 rows x 22 columns]\n"
     ]
    }
   ],
   "source": [
    "#Make new columns with for crosstab results. In this case, we're filling the columns with null values\n",
    "GM_Data['Cross_LR_All'] = np.nan\n",
    "GM_Data['Cross_LR_Select'] = np.nan\n",
    "GM_Data['Cross_DA_All'] = np.nan\n",
    "GM_Data['Cross_DA_Select'] = np.nan\n",
    "print (GM_Data)"
   ]
  },
  {
   "cell_type": "code",
   "execution_count": 97,
   "metadata": {},
   "outputs": [],
   "source": [
    "#Assign crosstab values for DA select\n",
    "def crosstab(x, y):\n",
    "\n",
    "    GM_Data.loc[((GM_Data.GM_Presence == 0) & (x == 0)), y] = 4 #Correct Rejection\n",
    "    GM_Data.loc[((GM_Data.GM_Presence == 1) & (x == 1)), y] = 1 #Hit\n",
    "    GM_Data.loc[((GM_Data.GM_Presence == 0) & (x == 1)), y] = 2 #FA\n",
    "    GM_Data.loc[((GM_Data.GM_Presence == 1) & (x == 0)), y] = 3 #Miss\n",
    "    GM_Data.loc[((GM_Data.GM_Presence == 0) & (x == 2)), y] = 5 #Training Data - Foliated\n",
    "    GM_Data.loc[((GM_Data.GM_Presence == 1) & (x == 2)), y] = 6 #Training Data - Defoliated\n",
    "    GM_Data.loc[((GM_Data.GM_Presence == 3) & (x == 0)), y] = 0 #No Data\n",
    "    GM_Data.loc[((GM_Data.GM_Presence == 3) & (x == 1)), y] = 0 #No Data\n",
    "    GM_Data.loc[((GM_Data.GM_Presence == 3) & (x == 2)), y] = 0 #No Data\n",
    "    GM_Data.describe()"
   ]
  },
  {
   "cell_type": "code",
   "execution_count": 107,
   "metadata": {},
   "outputs": [],
   "source": [
    "#Assign crosstab values for LR - All Model\n",
    "crosstab(GM_Data.LR_All_Pred, 'Cross_LR_All')"
   ]
  },
  {
   "cell_type": "code",
   "execution_count": 108,
   "metadata": {},
   "outputs": [],
   "source": [
    "#Assign crosstab values for LR - Select Model\n",
    "crosstab(GM_Data.LR_Select_Pred, 'Cross_LR_Select')"
   ]
  },
  {
   "cell_type": "code",
   "execution_count": 109,
   "metadata": {},
   "outputs": [],
   "source": [
    "#Assign crosstab values for DA - All Model\n",
    "crosstab(GM_Data.DA_All_Pred, 'Cross_DA_All')"
   ]
  },
  {
   "cell_type": "code",
   "execution_count": 101,
   "metadata": {},
   "outputs": [],
   "source": [
    "#Assign crosstab values for DA - Select Model\n",
    "crosstab(GM_Data.DA_Select_Pred, 'Cross_DA_Select')"
   ]
  },
  {
   "cell_type": "code",
   "execution_count": 102,
   "metadata": {},
   "outputs": [],
   "source": [
    "#Turn crostab column into an array and then to a raster image\n",
    "def export_to_TIFF(x):\n",
    "    Pred_array = GM_Data[[x]].to_numpy()\n",
    "    Pred_array = Pred_array.astype('uint8')\n",
    "\n",
    "    Pred_reshape = np.reshape(Pred_array, (835, 601))\n",
    "\n",
    "    with rio.open(\"GM_masked.tif\") as src:\n",
    "        out_meta = src.meta \n",
    "        out_meta.update({\"count\": \"1\"})\n",
    "\n",
    "    with rio.open(x+'.tif', 'w', **out_meta) as dst:\n",
    "        dst.write(Pred_reshape, indexes=1)"
   ]
  },
  {
   "cell_type": "code",
   "execution_count": 103,
   "metadata": {},
   "outputs": [],
   "source": [
    "#Create raster for LR - All crosstab\n",
    "export_to_TIFF('Cross_LR_All')"
   ]
  },
  {
   "cell_type": "code",
   "execution_count": 104,
   "metadata": {},
   "outputs": [],
   "source": [
    "#Create raster for LR - Select crosstab\n",
    "export_to_TIFF('Cross_LR_Select')"
   ]
  },
  {
   "cell_type": "code",
   "execution_count": 105,
   "metadata": {},
   "outputs": [],
   "source": [
    "#Create raster for DA - All crosstab\n",
    "export_to_TIFF('Cross_DA_All')"
   ]
  },
  {
   "cell_type": "code",
   "execution_count": 106,
   "metadata": {},
   "outputs": [],
   "source": [
    "#Create raster for DA - Select crosstab\n",
    "export_to_TIFF('Cross_DA_Select')"
   ]
  },
  {
   "cell_type": "code",
   "execution_count": null,
   "metadata": {},
   "outputs": [],
   "source": []
  }
 ],
 "metadata": {
  "kernelspec": {
   "display_name": "Python 3",
   "language": "python",
   "name": "python3"
  },
  "language_info": {
   "codemirror_mode": {
    "name": "ipython",
    "version": 3
   },
   "file_extension": ".py",
   "mimetype": "text/x-python",
   "name": "python",
   "nbconvert_exporter": "python",
   "pygments_lexer": "ipython3",
   "version": "3.7.6"
  }
 },
 "nbformat": 4,
 "nbformat_minor": 4
}
